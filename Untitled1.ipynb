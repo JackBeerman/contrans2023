{
 "cells": [
  {
   "cell_type": "code",
   "execution_count": 1,
   "id": "1a8381e1-b321-4bb5-a374-a8e255d62609",
   "metadata": {},
   "outputs": [],
   "source": [
    "import os\n",
    "mypassword = os.getenv('mypassword')"
   ]
  },
  {
   "cell_type": "code",
   "execution_count": 2,
   "id": "8fcbc341-6e6a-43ed-8e0e-05fc93b1844a",
   "metadata": {},
   "outputs": [],
   "source": [
    "mypassword = os.environ[\"mypassword\"]"
   ]
  },
  {
   "cell_type": "code",
   "execution_count": 3,
   "id": "67a4fcba-c30c-4971-8064-2a705f7fad46",
   "metadata": {},
   "outputs": [
    {
     "data": {
      "text/plain": [
       "'bieber4eva'"
      ]
     },
     "execution_count": 3,
     "metadata": {},
     "output_type": "execute_result"
    }
   ],
   "source": [
    "mypassword"
   ]
  },
  {
   "cell_type": "code",
   "execution_count": null,
   "id": "513b31f7-0d6e-4018-8441-90f483c3b50e",
   "metadata": {},
   "outputs": [],
   "source": []
  }
 ],
 "metadata": {
  "kernelspec": {
   "display_name": "contrans2023",
   "language": "python",
   "name": "contrans2023"
  },
  "language_info": {
   "codemirror_mode": {
    "name": "ipython",
    "version": 3
   },
   "file_extension": ".py",
   "mimetype": "text/x-python",
   "name": "python",
   "nbconvert_exporter": "python",
   "pygments_lexer": "ipython3",
   "version": "3.11.4"
  }
 },
 "nbformat": 4,
 "nbformat_minor": 5
}
