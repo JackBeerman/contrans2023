{
 "cells": [
  {
   "cell_type": "code",
   "execution_count": 1,
   "id": "09cfc6bd-fbf9-4861-9174-c735ddd2d134",
   "metadata": {},
   "outputs": [],
   "source": [
    "import numpy as np\n",
    "import pandas as pd\n",
    "import dash\n",
    "from dash import dcc\n",
    "from dash import html\n",
    "from dash.dependencies import Input, Output\n",
    "import psycopg2\n",
    "from sqlalchemy import create_engine\n",
    "import os\n",
    "import plotly.figure_factory as ff\n",
    "import plotly.express as px\n",
    "POSTGRES_PASSWORD = os.getenv('POSTGRES_PASSWORD')"
   ]
  },
  {
   "cell_type": "code",
   "execution_count": 2,
   "id": "064890c0-7870-4c43-84ad-62b4089a56dd",
   "metadata": {},
   "outputs": [],
   "source": [
    "engine = create_engine('postgresql+psycopg2://{user}:{password}@{host}:{port}/{db}'.format(\n",
    "    user = 'postgres',\n",
    "    password = POSTGRES_PASSWORD,\n",
    "    host = 'postgres',\n",
    "    port = 5432,\n",
    "    db = 'congress'\n",
    "))"
   ]
  },
  {
   "cell_type": "code",
   "execution_count": 3,
   "id": "e60672a6-53a6-4c5d-a6b0-30d376e086ae",
   "metadata": {},
   "outputs": [],
   "source": [
    "myquery = '''\n",
    "SELECT directordername, bioguideid\n",
    "FROM members\n",
    "ORDER BY lastname\n",
    "'''\n",
    "\n",
    "members = pd.read_sql_query(myquery, engine)\n",
    "memberlist = [{'label': x, 'value': y} for x, y in zip(members['directordername'], members['bioguideid'])]"
   ]
  },
  {
   "cell_type": "code",
   "execution_count": 4,
   "id": "72f6feb9-f08e-4eb2-a397-067fe8fd092b",
   "metadata": {},
   "outputs": [],
   "source": [
    "#ideology not added... need to update but had issues with new data\n",
    "myquery = '''\n",
    "SELECT bioguideid,\n",
    "directordername,\n",
    "        party,\n",
    "        state,\n",
    "        district\n",
    "FROM members m\n",
    "'''\n",
    "\n",
    "ideo_df = pd.read_sql_query(myquery, engine)\n",
    "ideo_df['chamber'] = ideo_df['district'].isnull()\n",
    "ideo_df['chamber'] = ideo_df['chamber'].replace({True:'Senate', False: 'House of Representatives'})"
   ]
  },
  {
   "cell_type": "code",
   "execution_count": 5,
   "id": "fe65e966-7a1f-47ac-bf18-142d105a09d1",
   "metadata": {},
   "outputs": [],
   "source": [
    "ideo_df['namedistrict'] = [n + ' (' + s + ')' if c =='Senate' else n + ' (' + s + ' - ' + str(int(d)) + ')' for n, s, c, d in zip(ideo_df['directordername'], ideo_df['state'], ideo_df['chamber'], ideo_df['district'])]\n",
    "\n",
    "ideo_df['party'] = ideo_df['party'].replace({'D': 'Democrat',\n",
    "                                             'I': 'Independent',\n",
    "                                             'R': 'Republican'})"
   ]
  },
  {
   "cell_type": "code",
   "execution_count": 6,
   "id": "273783d3-a6a2-4c9e-bf12-ef1527b2191a",
   "metadata": {},
   "outputs": [],
   "source": [
    "userbioguideid = 'G000595'\n",
    "ideo2 = ideo_df.query(f\"bioguideid == '{userbioguideid}'\")"
   ]
  },
  {
   "cell_type": "code",
   "execution_count": 7,
   "id": "13d21f73-e4c1-40d4-a5ec-894f0e36bd9f",
   "metadata": {},
   "outputs": [],
   "source": [
    "external_stylesheets = ['https://codepen.io/chriddyp/pen/bWLwgP.css']"
   ]
  },
  {
   "cell_type": "code",
   "execution_count": 8,
   "id": "aae2dd3a-b8b2-49be-82ea-72eae2df3082",
   "metadata": {},
   "outputs": [],
   "source": [
    "mymarkdown = '''\n",
    "\n",
    "Congressional elections are usually all about the big national issues, but these Representatives and Senators work for local districts and states. Not all issues are the same everywhere. The purpose of this dashboard is to collect public data from these sources:\n",
    "\n",
    "* [Official API for the U.S. Congress](https://api.congress.gov/)\n",
    "* [Voteview](https://voteview.com/)\n",
    "* [Open Secrets](https://opensecrets.org/open-data/api)\n",
    "* [ProPublica's Data on Bills](https://www.propublica.org/)\n",
    "\n",
    "'''"
   ]
  },
  {
   "cell_type": "code",
   "execution_count": 31,
   "id": "13b68825-3fc3-4521-93a4-45a72db65c46",
   "metadata": {},
   "outputs": [
    {
     "data": {
      "text/html": [
       "\n",
       "        <iframe\n",
       "            width=\"100%\"\n",
       "            height=\"650\"\n",
       "            src=\"http://0.0.0.0:8050/\"\n",
       "            frameborder=\"0\"\n",
       "            allowfullscreen\n",
       "            \n",
       "        ></iframe>\n",
       "        "
      ],
      "text/plain": [
       "<IPython.lib.display.IFrame at 0x7f065e6309d0>"
      ]
     },
     "metadata": {},
     "output_type": "display_data"
    },
    {
     "name": "stdout",
     "output_type": "stream",
     "text": [
      "\u001b[1;31m---------------------------------------------------------------------------\u001b[0m\n",
      "\u001b[1;31mValueError\u001b[0m                                Traceback (most recent call last)\n",
      "File \u001b[1;32m/usr/local/lib/python3.11/site-packages/pandas/core/indexes/range.py:345\u001b[0m, in \u001b[0;36mRangeIndex.get_loc\u001b[1;34m(\n",
      "    self=RangeIndex(start=0, stop=0, step=1),\n",
      "    key=0\n",
      ")\u001b[0m\n",
      "\u001b[0;32m    344\u001b[0m \u001b[38;5;28;01mtry\u001b[39;00m:\n",
      "\u001b[1;32m--> 345\u001b[0m     \u001b[38;5;28;01mreturn\u001b[39;00m \u001b[38;5;28mself\u001b[39m\u001b[38;5;241m.\u001b[39m_range\u001b[38;5;241m.\u001b[39mindex(new_key)\n",
      "        new_key \u001b[1;34m= 0\u001b[0m\u001b[1;34m\n",
      "        \u001b[0mself \u001b[1;34m= RangeIndex(start=0, stop=0, step=1)\u001b[0m\u001b[1;34m\n",
      "        \u001b[0mself._range \u001b[1;34m= range(0, 0)\u001b[0m\n",
      "\u001b[0;32m    346\u001b[0m \u001b[38;5;28;01mexcept\u001b[39;00m \u001b[38;5;167;01mValueError\u001b[39;00m \u001b[38;5;28;01mas\u001b[39;00m err:\n",
      "\n",
      "\u001b[1;31mValueError\u001b[0m: 0 is not in range\n",
      "\n",
      "The above exception was the direct cause of the following exception:\n",
      "\n",
      "\u001b[1;31mKeyError\u001b[0m                                  Traceback (most recent call last)\n",
      "\u001b[1;31mKeyError\u001b[0m: 0\n",
      "\n",
      "\u001b[1;31m---------------------------------------------------------------------------\u001b[0m\n",
      "\u001b[1;31mUndefinedTable\u001b[0m                            Traceback (most recent call last)\n",
      "File \u001b[1;32m/usr/local/lib/python3.11/site-packages/sqlalchemy/engine/base.py:1969\u001b[0m, in \u001b[0;36mConnection._exec_single_context\u001b[1;34m(\n",
      "    self=<sqlalchemy.engine.base.Connection object>,\n",
      "    dialect=<sqlalchemy.dialects.postgresql.psycopg2.PGDialect_psycopg2 object>,\n",
      "    context=<sqlalchemy.dialects.postgresql.psycopg2.PGExecutionContext_psycopg2 object>,\n",
      "    statement='\\n    SELECT m.directordername,\\n        m.state,\\n...ompare   \\n    ORDER BY g.affinity_score DESC\\n    ',\n",
      "    parameters=[immutabledict({})]\n",
      ")\u001b[0m\n",
      "\u001b[0;32m   1968\u001b[0m     \u001b[38;5;28;01mif\u001b[39;00m \u001b[38;5;129;01mnot\u001b[39;00m evt_handled:\n",
      "\u001b[1;32m-> 1969\u001b[0m         \u001b[38;5;28;43mself\u001b[39;49m\u001b[38;5;241;43m.\u001b[39;49m\u001b[43mdialect\u001b[49m\u001b[38;5;241;43m.\u001b[39;49m\u001b[43mdo_execute\u001b[49m\u001b[43m(\u001b[49m\n",
      "        self \u001b[1;34m= <sqlalchemy.engine.base.Connection object at 0x7f065e88d3d0>\u001b[0m\u001b[1;34m\n",
      "        \u001b[0mself.dialect \u001b[1;34m= <sqlalchemy.dialects.postgresql.psycopg2.PGDialect_psycopg2 object at 0x7f0680f32f50>\u001b[0m\u001b[1;34m\n",
      "        \u001b[0meffective_parameters \u001b[1;34m= immutabledict({})\u001b[0m\u001b[1;34m\n",
      "        \u001b[0mcursor \u001b[1;34m= <cursor object at 0x7f06805ad210; closed: -1>\u001b[0m\u001b[1;34m\n",
      "        \u001b[0mstr_statement \u001b[1;34m= \"\\n    SELECT m.directordername,\\n        m.state,\\n        m.party,\\n        g.affinity_score\\n    FROM members m\\n    INNER JOIN (SELECT v.member_compare, v.affinity_score\\n            FROM members m\\n            INNER JOIN votesim v\\n                ON m.icpsr = v.icpsr\\n            WHERE m.bioguideid = 'A000370'\\n            ORDER BY v.affinity_score DESC\\n            LIMIT 10) g\\n        ON m.icpsr = g.member_compare   \\n    ORDER BY g.affinity_score DESC\\n    \"\u001b[0m\u001b[1;34m\n",
      "        \u001b[0mcontext \u001b[1;34m= <sqlalchemy.dialects.postgresql.psycopg2.PGExecutionContext_psycopg2 object at 0x7f065e88ecd0>\u001b[0m\n",
      "\u001b[0;32m   1970\u001b[0m \u001b[43m            \u001b[49m\u001b[43mcursor\u001b[49m\u001b[43m,\u001b[49m\u001b[43m \u001b[49m\u001b[43mstr_statement\u001b[49m\u001b[43m,\u001b[49m\u001b[43m \u001b[49m\u001b[43meffective_parameters\u001b[49m\u001b[43m,\u001b[49m\u001b[43m \u001b[49m\u001b[43mcontext\u001b[49m\n",
      "\u001b[0;32m   1971\u001b[0m \u001b[43m        \u001b[49m\u001b[43m)\u001b[49m\n",
      "\u001b[0;32m   1973\u001b[0m \u001b[38;5;28;01mif\u001b[39;00m \u001b[38;5;28mself\u001b[39m\u001b[38;5;241m.\u001b[39m_has_events \u001b[38;5;129;01mor\u001b[39;00m \u001b[38;5;28mself\u001b[39m\u001b[38;5;241m.\u001b[39mengine\u001b[38;5;241m.\u001b[39m_has_events:\n",
      "\n",
      "File \u001b[1;32m/usr/local/lib/python3.11/site-packages/sqlalchemy/engine/default.py:922\u001b[0m, in \u001b[0;36mDefaultDialect.do_execute\u001b[1;34m(\n",
      "    self=<sqlalchemy.dialects.postgresql.psycopg2.PGDialect_psycopg2 object>,\n",
      "    cursor=<cursor object at 0x7f06805ad210; closed: -1>,\n",
      "    statement='\\n    SELECT m.directordername,\\n        m.state,\\n...ompare   \\n    ORDER BY g.affinity_score DESC\\n    ',\n",
      "    parameters=immutabledict({}),\n",
      "    context=<sqlalchemy.dialects.postgresql.psycopg2.PGExecutionContext_psycopg2 object>\n",
      ")\u001b[0m\n",
      "\u001b[0;32m    921\u001b[0m \u001b[38;5;28;01mdef\u001b[39;00m \u001b[38;5;21mdo_execute\u001b[39m(\u001b[38;5;28mself\u001b[39m, cursor, statement, parameters, context\u001b[38;5;241m=\u001b[39m\u001b[38;5;28;01mNone\u001b[39;00m):\n",
      "\u001b[1;32m--> 922\u001b[0m     \u001b[43mcursor\u001b[49m\u001b[38;5;241;43m.\u001b[39;49m\u001b[43mexecute\u001b[49m\u001b[43m(\u001b[49m\u001b[43mstatement\u001b[49m\u001b[43m,\u001b[49m\u001b[43m \u001b[49m\u001b[43mparameters\u001b[49m\u001b[43m)\u001b[49m\n",
      "        statement \u001b[1;34m= \"\\n    SELECT m.directordername,\\n        m.state,\\n        m.party,\\n        g.affinity_score\\n    FROM members m\\n    INNER JOIN (SELECT v.member_compare, v.affinity_score\\n            FROM members m\\n            INNER JOIN votesim v\\n                ON m.icpsr = v.icpsr\\n            WHERE m.bioguideid = 'A000370'\\n            ORDER BY v.affinity_score DESC\\n            LIMIT 10) g\\n        ON m.icpsr = g.member_compare   \\n    ORDER BY g.affinity_score DESC\\n    \"\u001b[0m\u001b[1;34m\n",
      "        \u001b[0mparameters \u001b[1;34m= immutabledict({})\u001b[0m\u001b[1;34m\n",
      "        \u001b[0mcursor \u001b[1;34m= <cursor object at 0x7f06805ad210; closed: -1>\u001b[0m\n",
      "\n",
      "\u001b[1;31mUndefinedTable\u001b[0m: relation \"votesim\" does not exist\n",
      "LINE 9:             INNER JOIN votesim v\n",
      "                               ^\n",
      "\n",
      "\n",
      "The above exception was the direct cause of the following exception:\n",
      "\n",
      "\u001b[1;31mProgrammingError\u001b[0m                          Traceback (most recent call last)\n",
      "File \u001b[1;32m/usr/local/lib/python3.11/site-packages/sqlalchemy/engine/base.py:1988\u001b[0m, in \u001b[0;36mConnection._exec_single_context\u001b[1;34m(\n",
      "    self=<sqlalchemy.engine.base.Connection object>,\n",
      "    dialect=<sqlalchemy.dialects.postgresql.psycopg2.PGDialect_psycopg2 object>,\n",
      "    context=<sqlalchemy.dialects.postgresql.psycopg2.PGExecutionContext_psycopg2 object>,\n",
      "    statement='\\n    SELECT m.directordername,\\n        m.state,\\n...ompare   \\n    ORDER BY g.affinity_score DESC\\n    ',\n",
      "    parameters=[immutabledict({})]\n",
      ")\u001b[0m\n",
      "\u001b[0;32m   1985\u001b[0m     result \u001b[38;5;241m=\u001b[39m context\u001b[38;5;241m.\u001b[39m_setup_result_proxy()\n",
      "\u001b[0;32m   1987\u001b[0m \u001b[38;5;28;01mexcept\u001b[39;00m \u001b[38;5;167;01mBaseException\u001b[39;00m \u001b[38;5;28;01mas\u001b[39;00m e:\n",
      "\u001b[1;32m-> 1988\u001b[0m     \u001b[38;5;28;43mself\u001b[39;49m\u001b[38;5;241;43m.\u001b[39;49m\u001b[43m_handle_dbapi_exception\u001b[49m\u001b[43m(\u001b[49m\n",
      "        self \u001b[1;34m= <sqlalchemy.engine.base.Connection object at 0x7f065e88d3d0>\u001b[0m\u001b[1;34m\n",
      "        \u001b[0meffective_parameters \u001b[1;34m= immutabledict({})\u001b[0m\u001b[1;34m\n",
      "        \u001b[0mcursor \u001b[1;34m= <cursor object at 0x7f06805ad210; closed: -1>\u001b[0m\u001b[1;34m\n",
      "        \u001b[0mstr_statement \u001b[1;34m= \"\\n    SELECT m.directordername,\\n        m.state,\\n        m.party,\\n        g.affinity_score\\n    FROM members m\\n    INNER JOIN (SELECT v.member_compare, v.affinity_score\\n            FROM members m\\n            INNER JOIN votesim v\\n                ON m.icpsr = v.icpsr\\n            WHERE m.bioguideid = 'A000370'\\n            ORDER BY v.affinity_score DESC\\n            LIMIT 10) g\\n        ON m.icpsr = g.member_compare   \\n    ORDER BY g.affinity_score DESC\\n    \"\u001b[0m\u001b[1;34m\n",
      "        \u001b[0mcontext \u001b[1;34m= <sqlalchemy.dialects.postgresql.psycopg2.PGExecutionContext_psycopg2 object at 0x7f065e88ecd0>\u001b[0m\n",
      "\u001b[0;32m   1989\u001b[0m \u001b[43m        \u001b[49m\u001b[43me\u001b[49m\u001b[43m,\u001b[49m\u001b[43m \u001b[49m\u001b[43mstr_statement\u001b[49m\u001b[43m,\u001b[49m\u001b[43m \u001b[49m\u001b[43meffective_parameters\u001b[49m\u001b[43m,\u001b[49m\u001b[43m \u001b[49m\u001b[43mcursor\u001b[49m\u001b[43m,\u001b[49m\u001b[43m \u001b[49m\u001b[43mcontext\u001b[49m\n",
      "\u001b[0;32m   1990\u001b[0m \u001b[43m    \u001b[49m\u001b[43m)\u001b[49m\n",
      "\u001b[0;32m   1992\u001b[0m \u001b[38;5;28;01mreturn\u001b[39;00m result\n",
      "\n",
      "File \u001b[1;32m/usr/local/lib/python3.11/site-packages/sqlalchemy/engine/base.py:2343\u001b[0m, in \u001b[0;36mConnection._handle_dbapi_exception\u001b[1;34m(\n",
      "    self=<sqlalchemy.engine.base.Connection object>,\n",
      "    e=UndefinedTable('relation \"votesim\" does not exis...N votesim v\\n                               ^\\n'),\n",
      "    statement='\\n    SELECT m.directordername,\\n        m.state,\\n...ompare   \\n    ORDER BY g.affinity_score DESC\\n    ',\n",
      "    parameters=immutabledict({}),\n",
      "    cursor=<cursor object at 0x7f06805ad210; closed: -1>,\n",
      "    context=<sqlalchemy.dialects.postgresql.psycopg2.PGExecutionContext_psycopg2 object>,\n",
      "    is_sub_exec=False\n",
      ")\u001b[0m\n",
      "\u001b[0;32m   2341\u001b[0m \u001b[38;5;28;01melif\u001b[39;00m should_wrap:\n",
      "\u001b[0;32m   2342\u001b[0m     \u001b[38;5;28;01massert\u001b[39;00m sqlalchemy_exception \u001b[38;5;129;01mis\u001b[39;00m \u001b[38;5;129;01mnot\u001b[39;00m \u001b[38;5;28;01mNone\u001b[39;00m\n",
      "\u001b[1;32m-> 2343\u001b[0m     \u001b[38;5;28;01mraise\u001b[39;00m sqlalchemy_exception\u001b[38;5;241m.\u001b[39mwith_traceback(exc_info[\u001b[38;5;241m2\u001b[39m]) \u001b[38;5;28;01mfrom\u001b[39;00m \u001b[38;5;21;01me\u001b[39;00m\n",
      "        exc_info \u001b[1;34m= (<class 'psycopg2.errors.UndefinedTable'>, UndefinedTable('relation \"votesim\" does not exist\\nLINE 9:             INNER JOIN votesim v\\n                               ^\\n'), <traceback object at 0x7f065e89d240>)\u001b[0m\u001b[1;34m\n",
      "        \u001b[0me \u001b[1;34m= UndefinedTable('relation \"votesim\" does not exist\\nLINE 9:             INNER JOIN votesim v\\n                               ^\\n')\u001b[0m\u001b[1;34m\n",
      "        \u001b[0mexc_info[2] \u001b[1;34m= <traceback object at 0x7f065e89d240>\u001b[0m\u001b[1;34m\n",
      "        \u001b[0msqlalchemy_exception \u001b[1;34m= ProgrammingError('(psycopg2.errors.UndefinedTable) relation \"votesim\" does not exist\\nLINE 9:             INNER JOIN votesim v\\n                               ^\\n')\u001b[0m\n",
      "\u001b[0;32m   2344\u001b[0m \u001b[38;5;28;01melse\u001b[39;00m:\n",
      "\u001b[0;32m   2345\u001b[0m     \u001b[38;5;28;01massert\u001b[39;00m exc_info[\u001b[38;5;241m1\u001b[39m] \u001b[38;5;129;01mis\u001b[39;00m \u001b[38;5;129;01mnot\u001b[39;00m \u001b[38;5;28;01mNone\u001b[39;00m\n",
      "\n",
      "File \u001b[1;32m/usr/local/lib/python3.11/site-packages/sqlalchemy/engine/base.py:1969\u001b[0m, in \u001b[0;36mConnection._exec_single_context\u001b[1;34m(\n",
      "    self=<sqlalchemy.engine.base.Connection object>,\n",
      "    dialect=<sqlalchemy.dialects.postgresql.psycopg2.PGDialect_psycopg2 object>,\n",
      "    context=<sqlalchemy.dialects.postgresql.psycopg2.PGExecutionContext_psycopg2 object>,\n",
      "    statement='\\n    SELECT m.directordername,\\n        m.state,\\n...ompare   \\n    ORDER BY g.affinity_score DESC\\n    ',\n",
      "    parameters=[immutabledict({})]\n",
      ")\u001b[0m\n",
      "\u001b[0;32m   1967\u001b[0m                 \u001b[38;5;28;01mbreak\u001b[39;00m\n",
      "\u001b[0;32m   1968\u001b[0m     \u001b[38;5;28;01mif\u001b[39;00m \u001b[38;5;129;01mnot\u001b[39;00m evt_handled:\n",
      "\u001b[1;32m-> 1969\u001b[0m         \u001b[38;5;28;43mself\u001b[39;49m\u001b[38;5;241;43m.\u001b[39;49m\u001b[43mdialect\u001b[49m\u001b[38;5;241;43m.\u001b[39;49m\u001b[43mdo_execute\u001b[49m\u001b[43m(\u001b[49m\n",
      "        self \u001b[1;34m= <sqlalchemy.engine.base.Connection object at 0x7f065e88d3d0>\u001b[0m\u001b[1;34m\n",
      "        \u001b[0mself.dialect \u001b[1;34m= <sqlalchemy.dialects.postgresql.psycopg2.PGDialect_psycopg2 object at 0x7f0680f32f50>\u001b[0m\u001b[1;34m\n",
      "        \u001b[0meffective_parameters \u001b[1;34m= immutabledict({})\u001b[0m\u001b[1;34m\n",
      "        \u001b[0mcursor \u001b[1;34m= <cursor object at 0x7f06805ad210; closed: -1>\u001b[0m\u001b[1;34m\n",
      "        \u001b[0mstr_statement \u001b[1;34m= \"\\n    SELECT m.directordername,\\n        m.state,\\n        m.party,\\n        g.affinity_score\\n    FROM members m\\n    INNER JOIN (SELECT v.member_compare, v.affinity_score\\n            FROM members m\\n            INNER JOIN votesim v\\n                ON m.icpsr = v.icpsr\\n            WHERE m.bioguideid = 'A000370'\\n            ORDER BY v.affinity_score DESC\\n            LIMIT 10) g\\n        ON m.icpsr = g.member_compare   \\n    ORDER BY g.affinity_score DESC\\n    \"\u001b[0m\u001b[1;34m\n",
      "        \u001b[0mcontext \u001b[1;34m= <sqlalchemy.dialects.postgresql.psycopg2.PGExecutionContext_psycopg2 object at 0x7f065e88ecd0>\u001b[0m\n",
      "\u001b[0;32m   1970\u001b[0m \u001b[43m            \u001b[49m\u001b[43mcursor\u001b[49m\u001b[43m,\u001b[49m\u001b[43m \u001b[49m\u001b[43mstr_statement\u001b[49m\u001b[43m,\u001b[49m\u001b[43m \u001b[49m\u001b[43meffective_parameters\u001b[49m\u001b[43m,\u001b[49m\u001b[43m \u001b[49m\u001b[43mcontext\u001b[49m\n",
      "\u001b[0;32m   1971\u001b[0m \u001b[43m        \u001b[49m\u001b[43m)\u001b[49m\n",
      "\u001b[0;32m   1973\u001b[0m \u001b[38;5;28;01mif\u001b[39;00m \u001b[38;5;28mself\u001b[39m\u001b[38;5;241m.\u001b[39m_has_events \u001b[38;5;129;01mor\u001b[39;00m \u001b[38;5;28mself\u001b[39m\u001b[38;5;241m.\u001b[39mengine\u001b[38;5;241m.\u001b[39m_has_events:\n",
      "\u001b[0;32m   1974\u001b[0m     \u001b[38;5;28mself\u001b[39m\u001b[38;5;241m.\u001b[39mdispatch\u001b[38;5;241m.\u001b[39mafter_cursor_execute(\n",
      "\u001b[0;32m   1975\u001b[0m         \u001b[38;5;28mself\u001b[39m,\n",
      "\u001b[0;32m   1976\u001b[0m         cursor,\n",
      "\u001b[1;32m   (...)\u001b[0m\n",
      "\u001b[0;32m   1980\u001b[0m         context\u001b[38;5;241m.\u001b[39mexecutemany,\n",
      "\u001b[0;32m   1981\u001b[0m     )\n",
      "\n",
      "File \u001b[1;32m/usr/local/lib/python3.11/site-packages/sqlalchemy/engine/default.py:922\u001b[0m, in \u001b[0;36mDefaultDialect.do_execute\u001b[1;34m(\n",
      "    self=<sqlalchemy.dialects.postgresql.psycopg2.PGDialect_psycopg2 object>,\n",
      "    cursor=<cursor object at 0x7f06805ad210; closed: -1>,\n",
      "    statement='\\n    SELECT m.directordername,\\n        m.state,\\n...ompare   \\n    ORDER BY g.affinity_score DESC\\n    ',\n",
      "    parameters=immutabledict({}),\n",
      "    context=<sqlalchemy.dialects.postgresql.psycopg2.PGExecutionContext_psycopg2 object>\n",
      ")\u001b[0m\n",
      "\u001b[0;32m    921\u001b[0m \u001b[38;5;28;01mdef\u001b[39;00m \u001b[38;5;21mdo_execute\u001b[39m(\u001b[38;5;28mself\u001b[39m, cursor, statement, parameters, context\u001b[38;5;241m=\u001b[39m\u001b[38;5;28;01mNone\u001b[39;00m):\n",
      "\u001b[1;32m--> 922\u001b[0m     \u001b[43mcursor\u001b[49m\u001b[38;5;241;43m.\u001b[39;49m\u001b[43mexecute\u001b[49m\u001b[43m(\u001b[49m\u001b[43mstatement\u001b[49m\u001b[43m,\u001b[49m\u001b[43m \u001b[49m\u001b[43mparameters\u001b[49m\u001b[43m)\u001b[49m\n",
      "        statement \u001b[1;34m= \"\\n    SELECT m.directordername,\\n        m.state,\\n        m.party,\\n        g.affinity_score\\n    FROM members m\\n    INNER JOIN (SELECT v.member_compare, v.affinity_score\\n            FROM members m\\n            INNER JOIN votesim v\\n                ON m.icpsr = v.icpsr\\n            WHERE m.bioguideid = 'A000370'\\n            ORDER BY v.affinity_score DESC\\n            LIMIT 10) g\\n        ON m.icpsr = g.member_compare   \\n    ORDER BY g.affinity_score DESC\\n    \"\u001b[0m\u001b[1;34m\n",
      "        \u001b[0mparameters \u001b[1;34m= immutabledict({})\u001b[0m\u001b[1;34m\n",
      "        \u001b[0mcursor \u001b[1;34m= <cursor object at 0x7f06805ad210; closed: -1>\u001b[0m\n",
      "\n",
      "\u001b[1;31mProgrammingError\u001b[0m: (psycopg2.errors.UndefinedTable) relation \"votesim\" does not exist\n",
      "LINE 9:             INNER JOIN votesim v\n",
      "                               ^\n",
      "\n",
      "[SQL: \n",
      "    SELECT m.directordername,\n",
      "        m.state,\n",
      "        m.party,\n",
      "        g.affinity_score\n",
      "    FROM members m\n",
      "    INNER JOIN (SELECT v.member_compare, v.affinity_score\n",
      "            FROM members m\n",
      "            INNER JOIN votesim v\n",
      "                ON m.icpsr = v.icpsr\n",
      "            WHERE m.bioguideid = 'A000370'\n",
      "            ORDER BY v.affinity_score DESC\n",
      "            LIMIT 10) g\n",
      "        ON m.icpsr = g.member_compare   \n",
      "    ORDER BY g.affinity_score DESC\n",
      "    ]\n",
      "(Background on this error at: https://sqlalche.me/e/20/f405)\n",
      "\n",
      "\u001b[1;31m---------------------------------------------------------------------------\u001b[0m\n",
      "\u001b[1;31mValueError\u001b[0m                                Traceback (most recent call last)\n",
      "File \u001b[1;32m/usr/local/lib/python3.11/site-packages/plotly/express/_chart_types.py:66\u001b[0m, in \u001b[0;36mscatter\u001b[1;34m(\n",
      "    data_frame=    bioguideid          directordername       pa...cClellan (Virginia - 4)  \n",
      "\n",
      "[530 rows x 7 columns],\n",
      "    x='ideology',\n",
      "    y='chamber',\n",
      "    color='party',\n",
      "    symbol=None,\n",
      "    size=None,\n",
      "    hover_name='namedistrict',\n",
      "    hover_data=['party'],\n",
      "    custom_data=None,\n",
      "    text=None,\n",
      "    facet_row=None,\n",
      "    facet_col=None,\n",
      "    facet_col_wrap=0,\n",
      "    facet_row_spacing=None,\n",
      "    facet_col_spacing=None,\n",
      "    error_x=None,\n",
      "    error_x_minus=None,\n",
      "    error_y=None,\n",
      "    error_y_minus=None,\n",
      "    animation_frame=None,\n",
      "    animation_group=None,\n",
      "    category_orders=None,\n",
      "    labels={'chamber': 'Chamber', 'ideology': 'Left/Right Ideology (DW-NOMINATE)', 'party': 'Political Party'},\n",
      "    orientation=None,\n",
      "    color_discrete_sequence=None,\n",
      "    color_discrete_map={'Democrat': 'blue', 'Independent': 'green', 'Republican': 'red'},\n",
      "    color_continuous_scale=None,\n",
      "    range_color=None,\n",
      "    color_continuous_midpoint=None,\n",
      "    symbol_sequence=None,\n",
      "    symbol_map=None,\n",
      "    opacity=0.1,\n",
      "    size_max=None,\n",
      "    marginal_x=None,\n",
      "    marginal_y=None,\n",
      "    trendline=None,\n",
      "    trendline_options=None,\n",
      "    trendline_color_override=None,\n",
      "    trendline_scope='trace',\n",
      "    log_x=False,\n",
      "    log_y=False,\n",
      "    range_x=None,\n",
      "    range_y=None,\n",
      "    render_mode='auto',\n",
      "    title='Ideological Placements in Congress',\n",
      "    template=None,\n",
      "    width=None,\n",
      "    height=None\n",
      ")\u001b[0m\n",
      "\u001b[0;32m     12\u001b[0m \u001b[38;5;28;01mdef\u001b[39;00m \u001b[38;5;21mscatter\u001b[39m(\n",
      "\u001b[0;32m     13\u001b[0m     data_frame\u001b[38;5;241m=\u001b[39m\u001b[38;5;28;01mNone\u001b[39;00m,\n",
      "\u001b[0;32m     14\u001b[0m     x\u001b[38;5;241m=\u001b[39m\u001b[38;5;28;01mNone\u001b[39;00m,\n",
      "\u001b[1;32m   (...)\u001b[0m\n",
      "\u001b[0;32m     60\u001b[0m     height\u001b[38;5;241m=\u001b[39m\u001b[38;5;28;01mNone\u001b[39;00m,\n",
      "\u001b[0;32m     61\u001b[0m ) \u001b[38;5;241m-\u001b[39m\u001b[38;5;241m>\u001b[39m go\u001b[38;5;241m.\u001b[39mFigure:\n",
      "\u001b[0;32m     62\u001b[0m \u001b[38;5;250m    \u001b[39m\u001b[38;5;124;03m\"\"\"\u001b[39;00m\n",
      "\u001b[0;32m     63\u001b[0m \u001b[38;5;124;03m    In a scatter plot, each row of `data_frame` is represented by a symbol\u001b[39;00m\n",
      "\u001b[0;32m     64\u001b[0m \u001b[38;5;124;03m    mark in 2D space.\u001b[39;00m\n",
      "\u001b[0;32m     65\u001b[0m \u001b[38;5;124;03m    \"\"\"\u001b[39;00m\n",
      "\u001b[1;32m---> 66\u001b[0m     \u001b[38;5;28;01mreturn\u001b[39;00m \u001b[43mmake_figure\u001b[49m\u001b[43m(\u001b[49m\u001b[43margs\u001b[49m\u001b[38;5;241;43m=\u001b[39;49m\u001b[38;5;28;43mlocals\u001b[39;49m\u001b[43m(\u001b[49m\u001b[43m)\u001b[49m\u001b[43m,\u001b[49m\u001b[43m \u001b[49m\u001b[43mconstructor\u001b[49m\u001b[38;5;241;43m=\u001b[39;49m\u001b[43mgo\u001b[49m\u001b[38;5;241;43m.\u001b[39;49m\u001b[43mScatter\u001b[49m\u001b[43m)\u001b[49m\n",
      "        go \u001b[1;34m= <module 'plotly.graph_objs' from '/usr/local/lib/python3.11/site-packages/plotly/graph_objs/__init__.py'>\u001b[0m\n",
      "\n",
      "File \u001b[1;32m/usr/local/lib/python3.11/site-packages/plotly/express/_core.py:2076\u001b[0m, in \u001b[0;36mmake_figure\u001b[1;34m(\n",
      "    args={'animation_frame': None, 'animation_group': None, 'category_orders': None, 'color': 'party', 'color_continuous_midpoint': None, 'color_continuous_scale': None, 'color_discrete_map': {'Democrat': 'blue', 'Independent': 'green', 'Republican': 'red'}, 'color_discrete_sequence': None, 'custom_data': None, 'data_frame':     bioguideid          directordername       pa...cClellan (Virginia - 4)  \n",
      "\n",
      "[530 rows x 7 columns], ...},\n",
      "    constructor=<class 'plotly.graph_objs._scatter.Scatter'>,\n",
      "    trace_patch={},\n",
      "    layout_patch={}\n",
      ")\u001b[0m\n",
      "\u001b[0;32m   2073\u001b[0m layout_patch \u001b[38;5;241m=\u001b[39m layout_patch \u001b[38;5;129;01mor\u001b[39;00m {}\n",
      "\u001b[0;32m   2074\u001b[0m apply_default_cascade(args)\n",
      "\u001b[1;32m-> 2076\u001b[0m args \u001b[38;5;241m=\u001b[39m \u001b[43mbuild_dataframe\u001b[49m\u001b[43m(\u001b[49m\u001b[43margs\u001b[49m\u001b[43m,\u001b[49m\u001b[43m \u001b[49m\u001b[43mconstructor\u001b[49m\u001b[43m)\u001b[49m\n",
      "        args \u001b[1;34m= {'data_frame':     bioguideid          directordername       party         state  district  \\\n",
      "0      B000944            Sherrod Brown    Democrat          Ohio       NaN   \n",
      "1      C000127           Maria Cantwell    Democrat    Washington       NaN   \n",
      "2      C000141       Benjamin L. Cardin    Democrat      Maryland       NaN   \n",
      "3      C000174         Thomas R. Carper    Democrat      Delaware       NaN   \n",
      "4      C001070      Robert P. Casey Jr.    Democrat  Pennsylvania       NaN   \n",
      "..         ...                      ...         ...           ...       ...   \n",
      "525    G000600  Marie Gluesenkamp Perez    Democrat    Washington       3.0   \n",
      "526    V000135        Derrick Van Orden  Republican     Wisconsin       3.0   \n",
      "527    H001096       Harriet M. Hageman  Republican       Wyoming       NaN   \n",
      "528    R000618            Pete Ricketts  Republican      Nebraska       NaN   \n",
      "529    M001227    Jennifer L. McClellan    Democrat      Virginia       4.0   \n",
      "\n",
      "                      chamber                              namedistrict  \n",
      "0                      Senate                      Sherrod Brown (Ohio)  \n",
      "1                      Senate               Maria Cantwell (Washington)  \n",
      "2                      Senate             Benjamin L. Cardin (Maryland)  \n",
      "3                      Senate               Thomas R. Carper (Delaware)  \n",
      "4                      Senate        Robert P. Casey Jr. (Pennsylvania)  \n",
      "..                        ...                                       ...  \n",
      "525  House of Representatives  Marie Gluesenkamp Perez (Washington - 3)  \n",
      "526  House of Representatives         Derrick Van Orden (Wisconsin - 3)  \n",
      "527                    Senate              Harriet M. Hageman (Wyoming)  \n",
      "528                    Senate                  Pete Ricketts (Nebraska)  \n",
      "529  House of Representatives      Jennifer L. McClellan (Virginia - 4)  \n",
      "\n",
      "[530 rows x 7 columns], 'x': 'ideology', 'y': 'chamber', 'color': 'party', 'symbol': None, 'size': None, 'hover_name': 'namedistrict', 'hover_data': ['party'], 'custom_data': None, 'text': None, 'facet_row': None, 'facet_col': None, 'facet_col_wrap': 0, 'facet_row_spacing': None, 'facet_col_spacing': None, 'error_x': None, 'error_x_minus': None, 'error_y': None, 'error_y_minus': None, 'animation_frame': None, 'animation_group': None, 'category_orders': None, 'labels': {'ideology': 'Left/Right Ideology (DW-NOMINATE)', 'chamber': 'Chamber', 'party': 'Political Party'}, 'orientation': None, 'color_discrete_sequence': None, 'color_discrete_map': {'Republican': 'red', 'Democrat': 'blue', 'Independent': 'green'}, 'color_continuous_scale': None, 'range_color': None, 'color_continuous_midpoint': None, 'symbol_sequence': None, 'symbol_map': None, 'opacity': 0.1, 'size_max': None, 'marginal_x': None, 'marginal_y': None, 'trendline': None, 'trendline_options': None, 'trendline_color_override': None, 'trendline_scope': 'trace', 'log_x': False, 'log_y': False, 'range_x': None, 'range_y': None, 'render_mode': 'auto', 'title': 'Ideological Placements in Congress', 'template': None, 'width': None, 'height': None}\u001b[0m\u001b[1;34m\n",
      "        \u001b[0mconstructor \u001b[1;34m= <class 'plotly.graph_objs._scatter.Scatter'>\u001b[0m\n",
      "\u001b[0;32m   2077\u001b[0m \u001b[38;5;28;01mif\u001b[39;00m constructor \u001b[38;5;129;01min\u001b[39;00m [go\u001b[38;5;241m.\u001b[39mTreemap, go\u001b[38;5;241m.\u001b[39mSunburst, go\u001b[38;5;241m.\u001b[39mIcicle] \u001b[38;5;129;01mand\u001b[39;00m args[\u001b[38;5;124m\"\u001b[39m\u001b[38;5;124mpath\u001b[39m\u001b[38;5;124m\"\u001b[39m] \u001b[38;5;129;01mis\u001b[39;00m \u001b[38;5;129;01mnot\u001b[39;00m \u001b[38;5;28;01mNone\u001b[39;00m:\n",
      "\u001b[0;32m   2078\u001b[0m     args \u001b[38;5;241m=\u001b[39m process_dataframe_hierarchy(args)\n",
      "\n",
      "File \u001b[1;32m/usr/local/lib/python3.11/site-packages/plotly/express/_core.py:1485\u001b[0m, in \u001b[0;36mbuild_dataframe\u001b[1;34m(\n",
      "    args={'animation_frame': None, 'animation_group': None, 'category_orders': None, 'color': 'party', 'color_continuous_midpoint': None, 'color_continuous_scale': None, 'color_discrete_map': {'Democrat': 'blue', 'Independent': 'green', 'Republican': 'red'}, 'color_discrete_sequence': None, 'custom_data': None, 'data_frame':     bioguideid          directordername       pa...cClellan (Virginia - 4)  \n",
      "\n",
      "[530 rows x 7 columns], ...},\n",
      "    constructor=<class 'plotly.graph_objs._scatter.Scatter'>\n",
      ")\u001b[0m\n",
      "\u001b[0;32m   1482\u001b[0m     args[\u001b[38;5;124m\"\u001b[39m\u001b[38;5;124mcolor\u001b[39m\u001b[38;5;124m\"\u001b[39m] \u001b[38;5;241m=\u001b[39m \u001b[38;5;28;01mNone\u001b[39;00m\n",
      "\u001b[0;32m   1483\u001b[0m \u001b[38;5;66;03m# now that things have been prepped, we do the systematic rewriting of `args`\u001b[39;00m\n",
      "\u001b[1;32m-> 1485\u001b[0m df_output, wide_id_vars \u001b[38;5;241m=\u001b[39m \u001b[43mprocess_args_into_dataframe\u001b[49m\u001b[43m(\u001b[49m\n",
      "        args \u001b[1;34m= {'data_frame':     bioguideid          directordername       party         state  district  \\\n",
      "0      B000944            Sherrod Brown    Democrat          Ohio       NaN   \n",
      "1      C000127           Maria Cantwell    Democrat    Washington       NaN   \n",
      "2      C000141       Benjamin L. Cardin    Democrat      Maryland       NaN   \n",
      "3      C000174         Thomas R. Carper    Democrat      Delaware       NaN   \n",
      "4      C001070      Robert P. Casey Jr.    Democrat  Pennsylvania       NaN   \n",
      "..         ...                      ...         ...           ...       ...   \n",
      "525    G000600  Marie Gluesenkamp Perez    Democrat    Washington       3.0   \n",
      "526    V000135        Derrick Van Orden  Republican     Wisconsin       3.0   \n",
      "527    H001096       Harriet M. Hageman  Republican       Wyoming       NaN   \n",
      "528    R000618            Pete Ricketts  Republican      Nebraska       NaN   \n",
      "529    M001227    Jennifer L. McClellan    Democrat      Virginia       4.0   \n",
      "\n",
      "                      chamber                              namedistrict  \n",
      "0                      Senate                      Sherrod Brown (Ohio)  \n",
      "1                      Senate               Maria Cantwell (Washington)  \n",
      "2                      Senate             Benjamin L. Cardin (Maryland)  \n",
      "3                      Senate               Thomas R. Carper (Delaware)  \n",
      "4                      Senate        Robert P. Casey Jr. (Pennsylvania)  \n",
      "..                        ...                                       ...  \n",
      "525  House of Representatives  Marie Gluesenkamp Perez (Washington - 3)  \n",
      "526  House of Representatives         Derrick Van Orden (Wisconsin - 3)  \n",
      "527                    Senate              Harriet M. Hageman (Wyoming)  \n",
      "528                    Senate                  Pete Ricketts (Nebraska)  \n",
      "529  House of Representatives      Jennifer L. McClellan (Virginia - 4)  \n",
      "\n",
      "[530 rows x 7 columns], 'x': 'ideology', 'y': 'chamber', 'color': 'party', 'symbol': None, 'size': None, 'hover_name': 'namedistrict', 'hover_data': ['party'], 'custom_data': None, 'text': None, 'facet_row': None, 'facet_col': None, 'facet_col_wrap': 0, 'facet_row_spacing': None, 'facet_col_spacing': None, 'error_x': None, 'error_x_minus': None, 'error_y': None, 'error_y_minus': None, 'animation_frame': None, 'animation_group': None, 'category_orders': None, 'labels': {'ideology': 'Left/Right Ideology (DW-NOMINATE)', 'chamber': 'Chamber', 'party': 'Political Party'}, 'orientation': None, 'color_discrete_sequence': None, 'color_discrete_map': {'Republican': 'red', 'Democrat': 'blue', 'Independent': 'green'}, 'color_continuous_scale': None, 'range_color': None, 'color_continuous_midpoint': None, 'symbol_sequence': None, 'symbol_map': None, 'opacity': 0.1, 'size_max': None, 'marginal_x': None, 'marginal_y': None, 'trendline': None, 'trendline_options': None, 'trendline_color_override': None, 'trendline_scope': 'trace', 'log_x': False, 'log_y': False, 'range_x': None, 'range_y': None, 'render_mode': 'auto', 'title': 'Ideological Placements in Congress', 'template': None, 'width': None, 'height': None}\u001b[0m\u001b[1;34m\n",
      "        \u001b[0mwide_mode \u001b[1;34m= False\u001b[0m\u001b[1;34m\n",
      "        \u001b[0mvar_name \u001b[1;34m= None\u001b[0m\u001b[1;34m\n",
      "        \u001b[0mvalue_name \u001b[1;34m= None\u001b[0m\n",
      "\u001b[0;32m   1486\u001b[0m \u001b[43m    \u001b[49m\u001b[43margs\u001b[49m\u001b[43m,\u001b[49m\u001b[43m \u001b[49m\u001b[43mwide_mode\u001b[49m\u001b[43m,\u001b[49m\u001b[43m \u001b[49m\u001b[43mvar_name\u001b[49m\u001b[43m,\u001b[49m\u001b[43m \u001b[49m\u001b[43mvalue_name\u001b[49m\n",
      "\u001b[0;32m   1487\u001b[0m \u001b[43m\u001b[49m\u001b[43m)\u001b[49m\n",
      "\u001b[0;32m   1489\u001b[0m \u001b[38;5;66;03m# now that `df_output` exists and `args` contains only references, we complete\u001b[39;00m\n",
      "\u001b[0;32m   1490\u001b[0m \u001b[38;5;66;03m# the special-case and wide-mode handling by further rewriting args and/or mutating\u001b[39;00m\n",
      "\u001b[0;32m   1491\u001b[0m \u001b[38;5;66;03m# df_output\u001b[39;00m\n",
      "\u001b[0;32m   1493\u001b[0m count_name \u001b[38;5;241m=\u001b[39m _escape_col_name(df_output, \u001b[38;5;124m\"\u001b[39m\u001b[38;5;124mcount\u001b[39m\u001b[38;5;124m\"\u001b[39m, [var_name, value_name])\n",
      "\n",
      "File \u001b[1;32m/usr/local/lib/python3.11/site-packages/plotly/express/_core.py:1210\u001b[0m, in \u001b[0;36mprocess_args_into_dataframe\u001b[1;34m(\n",
      "    args={'animation_frame': None, 'animation_group': None, 'category_orders': None, 'color': 'party', 'color_continuous_midpoint': None, 'color_continuous_scale': None, 'color_discrete_map': {'Democrat': 'blue', 'Independent': 'green', 'Republican': 'red'}, 'color_discrete_sequence': None, 'custom_data': None, 'data_frame':     bioguideid          directordername       pa...cClellan (Virginia - 4)  \n",
      "\n",
      "[530 rows x 7 columns], ...},\n",
      "    wide_mode=False,\n",
      "    var_name=None,\n",
      "    value_name=None\n",
      ")\u001b[0m\n",
      "\u001b[0;32m   1208\u001b[0m         \u001b[38;5;28;01mif\u001b[39;00m argument \u001b[38;5;241m==\u001b[39m \u001b[38;5;124m\"\u001b[39m\u001b[38;5;124mindex\u001b[39m\u001b[38;5;124m\"\u001b[39m:\n",
      "\u001b[0;32m   1209\u001b[0m             err_msg \u001b[38;5;241m+\u001b[39m\u001b[38;5;241m=\u001b[39m \u001b[38;5;124m\"\u001b[39m\u001b[38;5;130;01m\\n\u001b[39;00m\u001b[38;5;124m To use the index, pass it in directly as `df.index`.\u001b[39m\u001b[38;5;124m\"\u001b[39m\n",
      "\u001b[1;32m-> 1210\u001b[0m         \u001b[38;5;28;01mraise\u001b[39;00m \u001b[38;5;167;01mValueError\u001b[39;00m(err_msg)\n",
      "        err_msg \u001b[1;34m= \"Value of 'x' is not the name of a column in 'data_frame'. Expected one of ['bioguideid', 'directordername', 'party', 'state', 'district', 'chamber', 'namedistrict'] but received: ideology\"\u001b[0m\n",
      "\u001b[0;32m   1211\u001b[0m \u001b[38;5;28;01melif\u001b[39;00m length \u001b[38;5;129;01mand\u001b[39;00m \u001b[38;5;28mlen\u001b[39m(df_input[argument]) \u001b[38;5;241m!=\u001b[39m length:\n",
      "\u001b[0;32m   1212\u001b[0m     \u001b[38;5;28;01mraise\u001b[39;00m \u001b[38;5;167;01mValueError\u001b[39;00m(\n",
      "\u001b[0;32m   1213\u001b[0m         \u001b[38;5;124m\"\u001b[39m\u001b[38;5;124mAll arguments should have the same length. \u001b[39m\u001b[38;5;124m\"\u001b[39m\n",
      "\u001b[0;32m   1214\u001b[0m         \u001b[38;5;124m\"\u001b[39m\u001b[38;5;124mThe length of column argument `df[\u001b[39m\u001b[38;5;132;01m%s\u001b[39;00m\u001b[38;5;124m]` is \u001b[39m\u001b[38;5;132;01m%d\u001b[39;00m\u001b[38;5;124m, whereas the \u001b[39m\u001b[38;5;124m\"\u001b[39m\n",
      "\u001b[1;32m   (...)\u001b[0m\n",
      "\u001b[0;32m   1221\u001b[0m         )\n",
      "\u001b[0;32m   1222\u001b[0m     )\n",
      "\n",
      "\u001b[1;31mValueError\u001b[0m: Value of 'x' is not the name of a column in 'data_frame'. Expected one of ['bioguideid', 'directordername', 'party', 'state', 'district', 'chamber', 'namedistrict'] but received: ideology\n",
      "\n"
     ]
    }
   ],
   "source": [
    "app = dash.Dash(__name__, external_stylesheets=external_stylesheets)\n",
    "\n",
    " \n",
    "\n",
    "app.layout = html.Div(\n",
    "    [\n",
    "        # Stuff on top\n",
    "        html.H1(\"Know Your Representatives in Congress\"),\n",
    "        html.H2(\"Data collected from APIs from Congress.gov, Open Secrets, Voteview.com, and ProPublica\"),\n",
    "        html.H3(\"DS 6600: Data Engineering 1, UVA Data Science\"),\n",
    "        \n",
    "        # Side bar\n",
    "        html.Div([\n",
    "            dcc.Markdown('Please select a Representative or Senator:'),\n",
    "            dcc.Dropdown(id = 'member', options = memberlist, value = 'A000370'),\n",
    "            dcc.Markdown(mymarkdown),\n",
    "        ], style = {'width': '24%', 'float':'left'}), \n",
    "        \n",
    "        # Main bar\n",
    "        html.Div([\n",
    "            dcc.Tabs([\n",
    "                dcc.Tab(label = 'Biographical Info', children = [\n",
    "                    # stuff for bio tab goes here\n",
    "                    html.Div([html.Img(id = 'bioimage', style={'height':'100%', 'width':'100%'})], style = {'width': '24%', 'float':'left'}),\n",
    "                    html.Div([dcc.Graph(id = 'biotable')], style = {'width': '74%', 'float':'right'})\n",
    "                ]),\n",
    "\n",
    " \n",
    "\n",
    "                dcc.Tab(label = 'Bill Sponsorship', children = [\n",
    "                    dcc.Graph(id = 'money')\n",
    "                ]),\n",
    "\n",
    " \n",
    "\n",
    "                dcc.Tab(label = 'Voting and Ideology', children = [\n",
    "                    dcc.Graph(id = 'ideograph', style={'height':'100%', 'width':'100%'}),\n",
    "                    dcc.Markdown(\"Heare are the top 10 most similar members of Congress by voting record: \"),\n",
    "                    dcc.Graph(id = 'votesim')\n",
    "                ]),\n",
    "\n",
    " \n",
    "\n",
    "                dcc.Tab(label = 'Donors and Financial Info', children = [\n",
    "                    # stuff for donors tab goes here\n",
    "                ])\n",
    "                \n",
    "            ])\n",
    "        ], style = {'width': '74%', 'float':'right'})\n",
    "    ]\n",
    ")\n",
    "\n",
    " \n",
    "\n",
    "@app.callback([Output(component_id = 'biotable', component_property = 'figure')],\n",
    "             [Input(component_id = 'member', component_property = 'value')])\n",
    "\n",
    " \n",
    "\n",
    "def biotable(b):\n",
    "    myquery = f'''\n",
    "    SELECT directordername AS Name,\n",
    "        party AS Party,\n",
    "        state AS State,\n",
    "        CAST(district AS int) AS District,\n",
    "        birthyear AS Birthyear,\n",
    "        addressinformation_officeaddress AS Address,\n",
    "        CONCAT(addressinformation_city, ', ' , addressinformation_district) AS City,\n",
    "        addressinformation_zipcode AS Zipcode,\n",
    "        addressinformation_phonenumber AS Phone\n",
    "    FROM members\n",
    "    WHERE bioguideid='{b}'\n",
    "    '''\n",
    "    mydf = pd.read_sql_query(myquery, con=engine)\n",
    "    mydf.columns = [x.capitalize() for x in mydf.columns]\n",
    "    mydf = mydf.T.reset_index()\n",
    "    mydf = mydf.rename({'index':'', 0:''}, axis=1)\n",
    "    return [ff.create_table(mydf)]\n",
    "\n",
    " \n",
    "\n",
    "@app.callback([Output(component_id = 'bioimage', component_property = 'src')],\n",
    "             [Input(component_id = 'member', component_property = 'value')])\n",
    "\n",
    " \n",
    "\n",
    "def bioimage(b):\n",
    "    myquery = f'''\n",
    "    SELECT depiction_imageurl\n",
    "    FROM members\n",
    "    WHERE bioguideid='{b}'\n",
    "    '''\n",
    "    mydf = pd.read_sql_query(myquery, con=engine)\n",
    "    return [mydf['depiction_imageurl'][0]]\n",
    "\n",
    " \n",
    "\n",
    "@app.callback([Output(component_id = 'ideograph', component_property = 'figure')],\n",
    "             [Input(component_id = 'member', component_property = 'value')])\n",
    "\n",
    " \n",
    "\n",
    "def ideograph(b):\n",
    "    ideo2 = ideo_df.query(f\"bioguideid == '{b}'\")\n",
    "    fig = px.scatter(ideo_df, x='ideology', y='chamber', color='party',\n",
    "                     color_discrete_map={'Republican': 'red',\n",
    "                                         'Democrat': 'blue',\n",
    "                                         'Independent': 'green'},\n",
    "                     #height=300, width=600,\n",
    "                     labels={'ideology':'Left/Right Ideology (DW-NOMINATE)', \n",
    "                            'chamber':'Chamber',\n",
    "                            'party': 'Political Party'},\n",
    "                     hover_name = 'namedistrict',\n",
    "                     hover_data=['party'],\n",
    "                     title = 'Ideological Placements in Congress',\n",
    "                    opacity = .1)\n",
    "    \n",
    "    fig.update(layout=dict(title=dict(x=0.5)))\n",
    "    fig.update_yaxes(range=(-0.5, 1.5), tickvals=[0, 1],\n",
    "                    ticktext = ['Senate', 'House of Representatives'])\n",
    "    fig.update_xaxes(range=(-1,1), tickvals=[-1, -.5, 0, .5, 1],\n",
    "                    ticktext = ['Extreme left', 'Moderate left', 'Centrist', 'Moderate right', 'Extreme right'])\n",
    "    \n",
    "    fig.add_traces(\n",
    "        px.scatter(ideo2, x='ideology', y='chamber', color='party',\n",
    "                     color_discrete_map={'Republican': 'red',\n",
    "                                         'Democrat': 'blue',\n",
    "                                         'Independent': 'green'},\n",
    "                     height=300, width=600,\n",
    "                     labels={'ideology':'Left/Right Ideology (DW-NOMINATE)', \n",
    "                            'chamber':'Chamber',\n",
    "                            'party': 'Political Party'},\n",
    "                     hover_name = 'namedistrict',\n",
    "                     hover_data=['party'],\n",
    "                     title = 'Ideological Placements in Congress').update_traces(marker=dict(size=8, symbol=\"star\", line=dict(width=2, color=\"DarkSlateGrey\")),\n",
    "                                                                                 showlegend=False).data\n",
    "    )\n",
    "\n",
    " \n",
    "\n",
    "    fig.update_layout(autosize=True)\n",
    "    \n",
    "    \n",
    "    return [fig]\n",
    "\n",
    "@app.callback([Output(component_id = 'votesim', component_property = 'figure')],\n",
    "             [Input(component_id = 'member', component_property = 'value')])\n",
    "\n",
    "def votesim(b):\n",
    "\n",
    "    myquery = f'''\n",
    "    SELECT m.directordername,\n",
    "        m.state,\n",
    "        m.party,\n",
    "        g.affinity_score\n",
    "    FROM members m\n",
    "    INNER JOIN (SELECT v.member_compare, v.affinity_score\n",
    "            FROM members m\n",
    "            INNER JOIN votesim v\n",
    "                ON m.icpsr = v.icpsr\n",
    "            WHERE m.bioguideid = '{b}'\n",
    "            ORDER BY v.affinity_score DESC\n",
    "            LIMIT 10) g\n",
    "        ON m.icpsr = g.member_compare   \n",
    "    ORDER BY g.affinity_score DESC\n",
    "    '''\n",
    "    votedf = pd.read_sql_query(myquery, con=engine)\n",
    "    votedf = votedf.rename({'directordername': 'Name', \n",
    "                           'state': 'State',\n",
    "                           'party': 'Party',\n",
    "                           'affinity_score': 'Vote Similarity'}, axis =1)\n",
    "    votedf['Vote Similarity'] = round(100*votedf['Vote Similarity'], 1).astype('str') + '%'\n",
    "    return [ff.create_table(votedf)]\n",
    "\n",
    "@app.callback([Output(component_id = 'money', component_property = 'figure')],\n",
    "             [Input(component_id = 'member', component_property = 'value')])\n",
    "\n",
    "def contribgraph(b):\n",
    "    myquery = f'''\n",
    "    SELECT m.directordername,\n",
    "        c.org_name,\n",
    "        c.total,\n",
    "        c.pac,\n",
    "        c.ndiv\n",
    "    FROM contributions c\n",
    "    INNER JOIN members m\n",
    "        ON m.cid = c.cid\n",
    "    WHERE m.bioguideid = '{b}'\n",
    "    '''\n",
    "    contribdf = pd.read_sql_query(myquery, con=engine)\n",
    "    name = contribdf['directordername'][0]\n",
    "    contribdf = contribdf.drop(['directordername'], axis=1)\n",
    "    contribdf = contribdf.rename({'org_name': 'Organization',\n",
    "                                 'pac': 'Contribution Via PAC',\n",
    "                                 'ndiv': 'Direct Contribution'}, axis =1)\n",
    "    contribdf = pd.melt(contribdf, id_vars = ['Organization'],\n",
    "                       value_vars = ['Contribution Via PAC', 'Direct Contribution'])\n",
    "    fig = px.bar(contribdf, x='value', y = 'Organization', color='variable', labels = {'value': 'Amount Donated',\n",
    "                                                                                      'variable': 'Source'},\n",
    "                title = f\"Who's giving money to {name}?\")\n",
    "    fig.update(layout=dict(title=dict(x=0.5)))\n",
    "    return [fig]\n",
    "\n",
    "\n",
    "if __name__== \"__main__\":\n",
    "    app.run(mode= 'external', host = \"0.0.0.0\", port = 8050, debug=True)"
   ]
  },
  {
   "cell_type": "code",
   "execution_count": null,
   "id": "34cb4c28-38ad-47f6-9bc8-c7668e2ae7a4",
   "metadata": {},
   "outputs": [],
   "source": [
    "b = 'A000370'\n",
    "def biotable(b):\n",
    "    myquery = f'''\n",
    "    SELECT directordername AS Name,\n",
    "        party AS Party,\n",
    "        state AS State,\n",
    "        CAST(district AS int) AS District,\n",
    "        birthyear AS Birthyear,\n",
    "        addressinformation_officeaddress AS Address,\n",
    "        CONCAT(addressinformation_city, ', ', addressinformation_district) AS City,\n",
    "        addressinformation_phonenumber AS Phone,\n",
    "        addressinformation_zipcode AS Zipcode\n",
    "    FROM members\n",
    "    WHERE bioguideid='{b}'\n",
    "    '''\n",
    "    mydf = pd.read_sql_query(myquery, con=engine)\n",
    "    mydf.columns = [x.capitalize() for x in mydf.columns]\n",
    "    mydf = mydf.T.reset_index()\n",
    "    mydf = mydf.rename({'index':'', 0:''}, axis=1)\n",
    "    #print(\"here\")\n",
    "    return ff.create_table(mydf)"
   ]
  },
  {
   "cell_type": "code",
   "execution_count": null,
   "id": "8c652cb4-55be-4bb1-9b1b-92ccdf3ec2c4",
   "metadata": {},
   "outputs": [],
   "source": [
    "biotable(b)    "
   ]
  },
  {
   "cell_type": "code",
   "execution_count": 30,
   "id": "5a7af6f9-34e8-4ccb-9509-538bcd693c83",
   "metadata": {},
   "outputs": [
    {
     "data": {
      "application/vnd.plotly.v1+json": {
       "config": {
        "plotlyServerURL": "https://plot.ly"
       },
       "data": [
        {
         "alignmentgroup": "True",
         "hovertemplate": "Source=Contribution Via PAC<br>Amount Donated=%{x}<br>Organization=%{y}<extra></extra>",
         "legendgroup": "Contribution Via PAC",
         "marker": {
          "color": "#636efa",
          "pattern": {
           "shape": ""
          }
         },
         "name": "Contribution Via PAC",
         "offsetgroup": "Contribution Via PAC",
         "orientation": "h",
         "showlegend": true,
         "textposition": "auto",
         "type": "bar",
         "x": [
          0,
          51200,
          0,
          0,
          5000,
          11500,
          20000,
          0,
          7500,
          0
         ],
         "xaxis": "x",
         "y": [
          "Democracy Engine",
          "National Republican Senatorial Cmte",
          "Blackstone Group",
          "DCI Group",
          "DISH Network",
          "Renewable Energy Group",
          "Promoting Our Republican Team PAC",
          "alliantgroup",
          "Brownstein, Hyatt et al",
          "Energy Transfer Partners"
         ],
         "yaxis": "y"
        },
        {
         "alignmentgroup": "True",
         "hovertemplate": "Source=Direct Contribution<br>Amount Donated=%{x}<br>Organization=%{y}<extra></extra>",
         "legendgroup": "Direct Contribution",
         "marker": {
          "color": "#EF553B",
          "pattern": {
           "shape": ""
          }
         },
         "name": "Direct Contribution",
         "offsetgroup": "Direct Contribution",
         "orientation": "h",
         "showlegend": true,
         "textposition": "auto",
         "type": "bar",
         "x": [
          108460,
          0,
          25305,
          25150,
          19900,
          8800,
          0,
          19750,
          10133,
          17408
         ],
         "xaxis": "x",
         "y": [
          "Democracy Engine",
          "National Republican Senatorial Cmte",
          "Blackstone Group",
          "DCI Group",
          "DISH Network",
          "Renewable Energy Group",
          "Promoting Our Republican Team PAC",
          "alliantgroup",
          "Brownstein, Hyatt et al",
          "Energy Transfer Partners"
         ],
         "yaxis": "y"
        }
       ],
       "layout": {
        "autosize": true,
        "barmode": "relative",
        "legend": {
         "title": {
          "text": "Source"
         },
         "tracegroupgap": 0
        },
        "template": {
         "data": {
          "bar": [
           {
            "error_x": {
             "color": "#2a3f5f"
            },
            "error_y": {
             "color": "#2a3f5f"
            },
            "marker": {
             "line": {
              "color": "#E5ECF6",
              "width": 0.5
             },
             "pattern": {
              "fillmode": "overlay",
              "size": 10,
              "solidity": 0.2
             }
            },
            "type": "bar"
           }
          ],
          "barpolar": [
           {
            "marker": {
             "line": {
              "color": "#E5ECF6",
              "width": 0.5
             },
             "pattern": {
              "fillmode": "overlay",
              "size": 10,
              "solidity": 0.2
             }
            },
            "type": "barpolar"
           }
          ],
          "carpet": [
           {
            "aaxis": {
             "endlinecolor": "#2a3f5f",
             "gridcolor": "white",
             "linecolor": "white",
             "minorgridcolor": "white",
             "startlinecolor": "#2a3f5f"
            },
            "baxis": {
             "endlinecolor": "#2a3f5f",
             "gridcolor": "white",
             "linecolor": "white",
             "minorgridcolor": "white",
             "startlinecolor": "#2a3f5f"
            },
            "type": "carpet"
           }
          ],
          "choropleth": [
           {
            "colorbar": {
             "outlinewidth": 0,
             "ticks": ""
            },
            "type": "choropleth"
           }
          ],
          "contour": [
           {
            "colorbar": {
             "outlinewidth": 0,
             "ticks": ""
            },
            "colorscale": [
             [
              0,
              "#0d0887"
             ],
             [
              0.1111111111111111,
              "#46039f"
             ],
             [
              0.2222222222222222,
              "#7201a8"
             ],
             [
              0.3333333333333333,
              "#9c179e"
             ],
             [
              0.4444444444444444,
              "#bd3786"
             ],
             [
              0.5555555555555556,
              "#d8576b"
             ],
             [
              0.6666666666666666,
              "#ed7953"
             ],
             [
              0.7777777777777778,
              "#fb9f3a"
             ],
             [
              0.8888888888888888,
              "#fdca26"
             ],
             [
              1,
              "#f0f921"
             ]
            ],
            "type": "contour"
           }
          ],
          "contourcarpet": [
           {
            "colorbar": {
             "outlinewidth": 0,
             "ticks": ""
            },
            "type": "contourcarpet"
           }
          ],
          "heatmap": [
           {
            "colorbar": {
             "outlinewidth": 0,
             "ticks": ""
            },
            "colorscale": [
             [
              0,
              "#0d0887"
             ],
             [
              0.1111111111111111,
              "#46039f"
             ],
             [
              0.2222222222222222,
              "#7201a8"
             ],
             [
              0.3333333333333333,
              "#9c179e"
             ],
             [
              0.4444444444444444,
              "#bd3786"
             ],
             [
              0.5555555555555556,
              "#d8576b"
             ],
             [
              0.6666666666666666,
              "#ed7953"
             ],
             [
              0.7777777777777778,
              "#fb9f3a"
             ],
             [
              0.8888888888888888,
              "#fdca26"
             ],
             [
              1,
              "#f0f921"
             ]
            ],
            "type": "heatmap"
           }
          ],
          "heatmapgl": [
           {
            "colorbar": {
             "outlinewidth": 0,
             "ticks": ""
            },
            "colorscale": [
             [
              0,
              "#0d0887"
             ],
             [
              0.1111111111111111,
              "#46039f"
             ],
             [
              0.2222222222222222,
              "#7201a8"
             ],
             [
              0.3333333333333333,
              "#9c179e"
             ],
             [
              0.4444444444444444,
              "#bd3786"
             ],
             [
              0.5555555555555556,
              "#d8576b"
             ],
             [
              0.6666666666666666,
              "#ed7953"
             ],
             [
              0.7777777777777778,
              "#fb9f3a"
             ],
             [
              0.8888888888888888,
              "#fdca26"
             ],
             [
              1,
              "#f0f921"
             ]
            ],
            "type": "heatmapgl"
           }
          ],
          "histogram": [
           {
            "marker": {
             "pattern": {
              "fillmode": "overlay",
              "size": 10,
              "solidity": 0.2
             }
            },
            "type": "histogram"
           }
          ],
          "histogram2d": [
           {
            "colorbar": {
             "outlinewidth": 0,
             "ticks": ""
            },
            "colorscale": [
             [
              0,
              "#0d0887"
             ],
             [
              0.1111111111111111,
              "#46039f"
             ],
             [
              0.2222222222222222,
              "#7201a8"
             ],
             [
              0.3333333333333333,
              "#9c179e"
             ],
             [
              0.4444444444444444,
              "#bd3786"
             ],
             [
              0.5555555555555556,
              "#d8576b"
             ],
             [
              0.6666666666666666,
              "#ed7953"
             ],
             [
              0.7777777777777778,
              "#fb9f3a"
             ],
             [
              0.8888888888888888,
              "#fdca26"
             ],
             [
              1,
              "#f0f921"
             ]
            ],
            "type": "histogram2d"
           }
          ],
          "histogram2dcontour": [
           {
            "colorbar": {
             "outlinewidth": 0,
             "ticks": ""
            },
            "colorscale": [
             [
              0,
              "#0d0887"
             ],
             [
              0.1111111111111111,
              "#46039f"
             ],
             [
              0.2222222222222222,
              "#7201a8"
             ],
             [
              0.3333333333333333,
              "#9c179e"
             ],
             [
              0.4444444444444444,
              "#bd3786"
             ],
             [
              0.5555555555555556,
              "#d8576b"
             ],
             [
              0.6666666666666666,
              "#ed7953"
             ],
             [
              0.7777777777777778,
              "#fb9f3a"
             ],
             [
              0.8888888888888888,
              "#fdca26"
             ],
             [
              1,
              "#f0f921"
             ]
            ],
            "type": "histogram2dcontour"
           }
          ],
          "mesh3d": [
           {
            "colorbar": {
             "outlinewidth": 0,
             "ticks": ""
            },
            "type": "mesh3d"
           }
          ],
          "parcoords": [
           {
            "line": {
             "colorbar": {
              "outlinewidth": 0,
              "ticks": ""
             }
            },
            "type": "parcoords"
           }
          ],
          "pie": [
           {
            "automargin": true,
            "type": "pie"
           }
          ],
          "scatter": [
           {
            "fillpattern": {
             "fillmode": "overlay",
             "size": 10,
             "solidity": 0.2
            },
            "type": "scatter"
           }
          ],
          "scatter3d": [
           {
            "line": {
             "colorbar": {
              "outlinewidth": 0,
              "ticks": ""
             }
            },
            "marker": {
             "colorbar": {
              "outlinewidth": 0,
              "ticks": ""
             }
            },
            "type": "scatter3d"
           }
          ],
          "scattercarpet": [
           {
            "marker": {
             "colorbar": {
              "outlinewidth": 0,
              "ticks": ""
             }
            },
            "type": "scattercarpet"
           }
          ],
          "scattergeo": [
           {
            "marker": {
             "colorbar": {
              "outlinewidth": 0,
              "ticks": ""
             }
            },
            "type": "scattergeo"
           }
          ],
          "scattergl": [
           {
            "marker": {
             "colorbar": {
              "outlinewidth": 0,
              "ticks": ""
             }
            },
            "type": "scattergl"
           }
          ],
          "scattermapbox": [
           {
            "marker": {
             "colorbar": {
              "outlinewidth": 0,
              "ticks": ""
             }
            },
            "type": "scattermapbox"
           }
          ],
          "scatterpolar": [
           {
            "marker": {
             "colorbar": {
              "outlinewidth": 0,
              "ticks": ""
             }
            },
            "type": "scatterpolar"
           }
          ],
          "scatterpolargl": [
           {
            "marker": {
             "colorbar": {
              "outlinewidth": 0,
              "ticks": ""
             }
            },
            "type": "scatterpolargl"
           }
          ],
          "scatterternary": [
           {
            "marker": {
             "colorbar": {
              "outlinewidth": 0,
              "ticks": ""
             }
            },
            "type": "scatterternary"
           }
          ],
          "surface": [
           {
            "colorbar": {
             "outlinewidth": 0,
             "ticks": ""
            },
            "colorscale": [
             [
              0,
              "#0d0887"
             ],
             [
              0.1111111111111111,
              "#46039f"
             ],
             [
              0.2222222222222222,
              "#7201a8"
             ],
             [
              0.3333333333333333,
              "#9c179e"
             ],
             [
              0.4444444444444444,
              "#bd3786"
             ],
             [
              0.5555555555555556,
              "#d8576b"
             ],
             [
              0.6666666666666666,
              "#ed7953"
             ],
             [
              0.7777777777777778,
              "#fb9f3a"
             ],
             [
              0.8888888888888888,
              "#fdca26"
             ],
             [
              1,
              "#f0f921"
             ]
            ],
            "type": "surface"
           }
          ],
          "table": [
           {
            "cells": {
             "fill": {
              "color": "#EBF0F8"
             },
             "line": {
              "color": "white"
             }
            },
            "header": {
             "fill": {
              "color": "#C8D4E3"
             },
             "line": {
              "color": "white"
             }
            },
            "type": "table"
           }
          ]
         },
         "layout": {
          "annotationdefaults": {
           "arrowcolor": "#2a3f5f",
           "arrowhead": 0,
           "arrowwidth": 1
          },
          "autotypenumbers": "strict",
          "coloraxis": {
           "colorbar": {
            "outlinewidth": 0,
            "ticks": ""
           }
          },
          "colorscale": {
           "diverging": [
            [
             0,
             "#8e0152"
            ],
            [
             0.1,
             "#c51b7d"
            ],
            [
             0.2,
             "#de77ae"
            ],
            [
             0.3,
             "#f1b6da"
            ],
            [
             0.4,
             "#fde0ef"
            ],
            [
             0.5,
             "#f7f7f7"
            ],
            [
             0.6,
             "#e6f5d0"
            ],
            [
             0.7,
             "#b8e186"
            ],
            [
             0.8,
             "#7fbc41"
            ],
            [
             0.9,
             "#4d9221"
            ],
            [
             1,
             "#276419"
            ]
           ],
           "sequential": [
            [
             0,
             "#0d0887"
            ],
            [
             0.1111111111111111,
             "#46039f"
            ],
            [
             0.2222222222222222,
             "#7201a8"
            ],
            [
             0.3333333333333333,
             "#9c179e"
            ],
            [
             0.4444444444444444,
             "#bd3786"
            ],
            [
             0.5555555555555556,
             "#d8576b"
            ],
            [
             0.6666666666666666,
             "#ed7953"
            ],
            [
             0.7777777777777778,
             "#fb9f3a"
            ],
            [
             0.8888888888888888,
             "#fdca26"
            ],
            [
             1,
             "#f0f921"
            ]
           ],
           "sequentialminus": [
            [
             0,
             "#0d0887"
            ],
            [
             0.1111111111111111,
             "#46039f"
            ],
            [
             0.2222222222222222,
             "#7201a8"
            ],
            [
             0.3333333333333333,
             "#9c179e"
            ],
            [
             0.4444444444444444,
             "#bd3786"
            ],
            [
             0.5555555555555556,
             "#d8576b"
            ],
            [
             0.6666666666666666,
             "#ed7953"
            ],
            [
             0.7777777777777778,
             "#fb9f3a"
            ],
            [
             0.8888888888888888,
             "#fdca26"
            ],
            [
             1,
             "#f0f921"
            ]
           ]
          },
          "colorway": [
           "#636efa",
           "#EF553B",
           "#00cc96",
           "#ab63fa",
           "#FFA15A",
           "#19d3f3",
           "#FF6692",
           "#B6E880",
           "#FF97FF",
           "#FECB52"
          ],
          "font": {
           "color": "#2a3f5f"
          },
          "geo": {
           "bgcolor": "white",
           "lakecolor": "white",
           "landcolor": "#E5ECF6",
           "showlakes": true,
           "showland": true,
           "subunitcolor": "white"
          },
          "hoverlabel": {
           "align": "left"
          },
          "hovermode": "closest",
          "mapbox": {
           "style": "light"
          },
          "paper_bgcolor": "white",
          "plot_bgcolor": "#E5ECF6",
          "polar": {
           "angularaxis": {
            "gridcolor": "white",
            "linecolor": "white",
            "ticks": ""
           },
           "bgcolor": "#E5ECF6",
           "radialaxis": {
            "gridcolor": "white",
            "linecolor": "white",
            "ticks": ""
           }
          },
          "scene": {
           "xaxis": {
            "backgroundcolor": "#E5ECF6",
            "gridcolor": "white",
            "gridwidth": 2,
            "linecolor": "white",
            "showbackground": true,
            "ticks": "",
            "zerolinecolor": "white"
           },
           "yaxis": {
            "backgroundcolor": "#E5ECF6",
            "gridcolor": "white",
            "gridwidth": 2,
            "linecolor": "white",
            "showbackground": true,
            "ticks": "",
            "zerolinecolor": "white"
           },
           "zaxis": {
            "backgroundcolor": "#E5ECF6",
            "gridcolor": "white",
            "gridwidth": 2,
            "linecolor": "white",
            "showbackground": true,
            "ticks": "",
            "zerolinecolor": "white"
           }
          },
          "shapedefaults": {
           "line": {
            "color": "#2a3f5f"
           }
          },
          "ternary": {
           "aaxis": {
            "gridcolor": "white",
            "linecolor": "white",
            "ticks": ""
           },
           "baxis": {
            "gridcolor": "white",
            "linecolor": "white",
            "ticks": ""
           },
           "bgcolor": "#E5ECF6",
           "caxis": {
            "gridcolor": "white",
            "linecolor": "white",
            "ticks": ""
           }
          },
          "title": {
           "x": 0.05
          },
          "xaxis": {
           "automargin": true,
           "gridcolor": "white",
           "linecolor": "white",
           "ticks": "",
           "title": {
            "standoff": 15
           },
           "zerolinecolor": "white",
           "zerolinewidth": 2
          },
          "yaxis": {
           "automargin": true,
           "gridcolor": "white",
           "linecolor": "white",
           "ticks": "",
           "title": {
            "standoff": 15
           },
           "zerolinecolor": "white",
           "zerolinewidth": 2
          }
         }
        },
        "title": {
         "text": "Who's giving money to Chuck Grassley?",
         "x": 0.5
        },
        "xaxis": {
         "anchor": "y",
         "autorange": true,
         "domain": [
          0,
          1
         ],
         "range": [
          0,
          114168.42105263157
         ],
         "title": {
          "text": "Amount Donated"
         },
         "type": "linear"
        },
        "yaxis": {
         "anchor": "x",
         "autorange": true,
         "domain": [
          0,
          1
         ],
         "range": [
          -0.5,
          9.5
         ],
         "title": {
          "text": "Organization"
         },
         "type": "category"
        }
       }
      },
      "image/png": "[encoded data removed]",
      "text/html": [
       "<div>                            <div id=\"724bb4fa-779b-4272-85bf-dad6f796da2c\" class=\"plotly-graph-div\" style=\"height:525px; width:100%;\"></div>            <script type=\"text/javascript\">                require([\"plotly\"], function(Plotly) {                    window.PLOTLYENV=window.PLOTLYENV || {};                                    if (document.getElementById(\"724bb4fa-779b-4272-85bf-dad6f796da2c\")) {                    Plotly.newPlot(                        \"724bb4fa-779b-4272-85bf-dad6f796da2c\",                        [{\"alignmentgroup\":\"True\",\"hovertemplate\":\"Source=Contribution Via PAC\\u003cbr\\u003eAmount Donated=%{x}\\u003cbr\\u003eOrganization=%{y}\\u003cextra\\u003e\\u003c\\u002fextra\\u003e\",\"legendgroup\":\"Contribution Via PAC\",\"marker\":{\"color\":\"#636efa\",\"pattern\":{\"shape\":\"\"}},\"name\":\"Contribution Via PAC\",\"offsetgroup\":\"Contribution Via PAC\",\"orientation\":\"h\",\"showlegend\":true,\"textposition\":\"auto\",\"x\":[0,51200,0,0,5000,11500,20000,0,7500,0],\"xaxis\":\"x\",\"y\":[\"Democracy Engine\",\"National Republican Senatorial Cmte\",\"Blackstone Group\",\"DCI Group\",\"DISH Network\",\"Renewable Energy Group\",\"Promoting Our Republican Team PAC\",\"alliantgroup\",\"Brownstein, Hyatt et al\",\"Energy Transfer Partners\"],\"yaxis\":\"y\",\"type\":\"bar\"},{\"alignmentgroup\":\"True\",\"hovertemplate\":\"Source=Direct Contribution\\u003cbr\\u003eAmount Donated=%{x}\\u003cbr\\u003eOrganization=%{y}\\u003cextra\\u003e\\u003c\\u002fextra\\u003e\",\"legendgroup\":\"Direct Contribution\",\"marker\":{\"color\":\"#EF553B\",\"pattern\":{\"shape\":\"\"}},\"name\":\"Direct Contribution\",\"offsetgroup\":\"Direct Contribution\",\"orientation\":\"h\",\"showlegend\":true,\"textposition\":\"auto\",\"x\":[108460,0,25305,25150,19900,8800,0,19750,10133,17408],\"xaxis\":\"x\",\"y\":[\"Democracy Engine\",\"National Republican Senatorial Cmte\",\"Blackstone Group\",\"DCI Group\",\"DISH Network\",\"Renewable Energy Group\",\"Promoting Our Republican Team PAC\",\"alliantgroup\",\"Brownstein, Hyatt et al\",\"Energy Transfer Partners\"],\"yaxis\":\"y\",\"type\":\"bar\"}],                        {\"template\":{\"data\":{\"histogram2dcontour\":[{\"type\":\"histogram2dcontour\",\"colorbar\":{\"outlinewidth\":0,\"ticks\":\"\"},\"colorscale\":[[0.0,\"#0d0887\"],[0.1111111111111111,\"#46039f\"],[0.2222222222222222,\"#7201a8\"],[0.3333333333333333,\"#9c179e\"],[0.4444444444444444,\"#bd3786\"],[0.5555555555555556,\"#d8576b\"],[0.6666666666666666,\"#ed7953\"],[0.7777777777777778,\"#fb9f3a\"],[0.8888888888888888,\"#fdca26\"],[1.0,\"#f0f921\"]]}],\"choropleth\":[{\"type\":\"choropleth\",\"colorbar\":{\"outlinewidth\":0,\"ticks\":\"\"}}],\"histogram2d\":[{\"type\":\"histogram2d\",\"colorbar\":{\"outlinewidth\":0,\"ticks\":\"\"},\"colorscale\":[[0.0,\"#0d0887\"],[0.1111111111111111,\"#46039f\"],[0.2222222222222222,\"#7201a8\"],[0.3333333333333333,\"#9c179e\"],[0.4444444444444444,\"#bd3786\"],[0.5555555555555556,\"#d8576b\"],[0.6666666666666666,\"#ed7953\"],[0.7777777777777778,\"#fb9f3a\"],[0.8888888888888888,\"#fdca26\"],[1.0,\"#f0f921\"]]}],\"heatmap\":[{\"type\":\"heatmap\",\"colorbar\":{\"outlinewidth\":0,\"ticks\":\"\"},\"colorscale\":[[0.0,\"#0d0887\"],[0.1111111111111111,\"#46039f\"],[0.2222222222222222,\"#7201a8\"],[0.3333333333333333,\"#9c179e\"],[0.4444444444444444,\"#bd3786\"],[0.5555555555555556,\"#d8576b\"],[0.6666666666666666,\"#ed7953\"],[0.7777777777777778,\"#fb9f3a\"],[0.8888888888888888,\"#fdca26\"],[1.0,\"#f0f921\"]]}],\"heatmapgl\":[{\"type\":\"heatmapgl\",\"colorbar\":{\"outlinewidth\":0,\"ticks\":\"\"},\"colorscale\":[[0.0,\"#0d0887\"],[0.1111111111111111,\"#46039f\"],[0.2222222222222222,\"#7201a8\"],[0.3333333333333333,\"#9c179e\"],[0.4444444444444444,\"#bd3786\"],[0.5555555555555556,\"#d8576b\"],[0.6666666666666666,\"#ed7953\"],[0.7777777777777778,\"#fb9f3a\"],[0.8888888888888888,\"#fdca26\"],[1.0,\"#f0f921\"]]}],\"contourcarpet\":[{\"type\":\"contourcarpet\",\"colorbar\":{\"outlinewidth\":0,\"ticks\":\"\"}}],\"contour\":[{\"type\":\"contour\",\"colorbar\":{\"outlinewidth\":0,\"ticks\":\"\"},\"colorscale\":[[0.0,\"#0d0887\"],[0.1111111111111111,\"#46039f\"],[0.2222222222222222,\"#7201a8\"],[0.3333333333333333,\"#9c179e\"],[0.4444444444444444,\"#bd3786\"],[0.5555555555555556,\"#d8576b\"],[0.6666666666666666,\"#ed7953\"],[0.7777777777777778,\"#fb9f3a\"],[0.8888888888888888,\"#fdca26\"],[1.0,\"#f0f921\"]]}],\"surface\":[{\"type\":\"surface\",\"colorbar\":{\"outlinewidth\":0,\"ticks\":\"\"},\"colorscale\":[[0.0,\"#0d0887\"],[0.1111111111111111,\"#46039f\"],[0.2222222222222222,\"#7201a8\"],[0.3333333333333333,\"#9c179e\"],[0.4444444444444444,\"#bd3786\"],[0.5555555555555556,\"#d8576b\"],[0.6666666666666666,\"#ed7953\"],[0.7777777777777778,\"#fb9f3a\"],[0.8888888888888888,\"#fdca26\"],[1.0,\"#f0f921\"]]}],\"mesh3d\":[{\"type\":\"mesh3d\",\"colorbar\":{\"outlinewidth\":0,\"ticks\":\"\"}}],\"scatter\":[{\"fillpattern\":{\"fillmode\":\"overlay\",\"size\":10,\"solidity\":0.2},\"type\":\"scatter\"}],\"parcoords\":[{\"type\":\"parcoords\",\"line\":{\"colorbar\":{\"outlinewidth\":0,\"ticks\":\"\"}}}],\"scatterpolargl\":[{\"type\":\"scatterpolargl\",\"marker\":{\"colorbar\":{\"outlinewidth\":0,\"ticks\":\"\"}}}],\"bar\":[{\"error_x\":{\"color\":\"#2a3f5f\"},\"error_y\":{\"color\":\"#2a3f5f\"},\"marker\":{\"line\":{\"color\":\"#E5ECF6\",\"width\":0.5},\"pattern\":{\"fillmode\":\"overlay\",\"size\":10,\"solidity\":0.2}},\"type\":\"bar\"}],\"scattergeo\":[{\"type\":\"scattergeo\",\"marker\":{\"colorbar\":{\"outlinewidth\":0,\"ticks\":\"\"}}}],\"scatterpolar\":[{\"type\":\"scatterpolar\",\"marker\":{\"colorbar\":{\"outlinewidth\":0,\"ticks\":\"\"}}}],\"histogram\":[{\"marker\":{\"pattern\":{\"fillmode\":\"overlay\",\"size\":10,\"solidity\":0.2}},\"type\":\"histogram\"}],\"scattergl\":[{\"type\":\"scattergl\",\"marker\":{\"colorbar\":{\"outlinewidth\":0,\"ticks\":\"\"}}}],\"scatter3d\":[{\"type\":\"scatter3d\",\"line\":{\"colorbar\":{\"outlinewidth\":0,\"ticks\":\"\"}},\"marker\":{\"colorbar\":{\"outlinewidth\":0,\"ticks\":\"\"}}}],\"scattermapbox\":[{\"type\":\"scattermapbox\",\"marker\":{\"colorbar\":{\"outlinewidth\":0,\"ticks\":\"\"}}}],\"scatterternary\":[{\"type\":\"scatterternary\",\"marker\":{\"colorbar\":{\"outlinewidth\":0,\"ticks\":\"\"}}}],\"scattercarpet\":[{\"type\":\"scattercarpet\",\"marker\":{\"colorbar\":{\"outlinewidth\":0,\"ticks\":\"\"}}}],\"carpet\":[{\"aaxis\":{\"endlinecolor\":\"#2a3f5f\",\"gridcolor\":\"white\",\"linecolor\":\"white\",\"minorgridcolor\":\"white\",\"startlinecolor\":\"#2a3f5f\"},\"baxis\":{\"endlinecolor\":\"#2a3f5f\",\"gridcolor\":\"white\",\"linecolor\":\"white\",\"minorgridcolor\":\"white\",\"startlinecolor\":\"#2a3f5f\"},\"type\":\"carpet\"}],\"table\":[{\"cells\":{\"fill\":{\"color\":\"#EBF0F8\"},\"line\":{\"color\":\"white\"}},\"header\":{\"fill\":{\"color\":\"#C8D4E3\"},\"line\":{\"color\":\"white\"}},\"type\":\"table\"}],\"barpolar\":[{\"marker\":{\"line\":{\"color\":\"#E5ECF6\",\"width\":0.5},\"pattern\":{\"fillmode\":\"overlay\",\"size\":10,\"solidity\":0.2}},\"type\":\"barpolar\"}],\"pie\":[{\"automargin\":true,\"type\":\"pie\"}]},\"layout\":{\"autotypenumbers\":\"strict\",\"colorway\":[\"#636efa\",\"#EF553B\",\"#00cc96\",\"#ab63fa\",\"#FFA15A\",\"#19d3f3\",\"#FF6692\",\"#B6E880\",\"#FF97FF\",\"#FECB52\"],\"font\":{\"color\":\"#2a3f5f\"},\"hovermode\":\"closest\",\"hoverlabel\":{\"align\":\"left\"},\"paper_bgcolor\":\"white\",\"plot_bgcolor\":\"#E5ECF6\",\"polar\":{\"bgcolor\":\"#E5ECF6\",\"angularaxis\":{\"gridcolor\":\"white\",\"linecolor\":\"white\",\"ticks\":\"\"},\"radialaxis\":{\"gridcolor\":\"white\",\"linecolor\":\"white\",\"ticks\":\"\"}},\"ternary\":{\"bgcolor\":\"#E5ECF6\",\"aaxis\":{\"gridcolor\":\"white\",\"linecolor\":\"white\",\"ticks\":\"\"},\"baxis\":{\"gridcolor\":\"white\",\"linecolor\":\"white\",\"ticks\":\"\"},\"caxis\":{\"gridcolor\":\"white\",\"linecolor\":\"white\",\"ticks\":\"\"}},\"coloraxis\":{\"colorbar\":{\"outlinewidth\":0,\"ticks\":\"\"}},\"colorscale\":{\"sequential\":[[0.0,\"#0d0887\"],[0.1111111111111111,\"#46039f\"],[0.2222222222222222,\"#7201a8\"],[0.3333333333333333,\"#9c179e\"],[0.4444444444444444,\"#bd3786\"],[0.5555555555555556,\"#d8576b\"],[0.6666666666666666,\"#ed7953\"],[0.7777777777777778,\"#fb9f3a\"],[0.8888888888888888,\"#fdca26\"],[1.0,\"#f0f921\"]],\"sequentialminus\":[[0.0,\"#0d0887\"],[0.1111111111111111,\"#46039f\"],[0.2222222222222222,\"#7201a8\"],[0.3333333333333333,\"#9c179e\"],[0.4444444444444444,\"#bd3786\"],[0.5555555555555556,\"#d8576b\"],[0.6666666666666666,\"#ed7953\"],[0.7777777777777778,\"#fb9f3a\"],[0.8888888888888888,\"#fdca26\"],[1.0,\"#f0f921\"]],\"diverging\":[[0,\"#8e0152\"],[0.1,\"#c51b7d\"],[0.2,\"#de77ae\"],[0.3,\"#f1b6da\"],[0.4,\"#fde0ef\"],[0.5,\"#f7f7f7\"],[0.6,\"#e6f5d0\"],[0.7,\"#b8e186\"],[0.8,\"#7fbc41\"],[0.9,\"#4d9221\"],[1,\"#276419\"]]},\"xaxis\":{\"gridcolor\":\"white\",\"linecolor\":\"white\",\"ticks\":\"\",\"title\":{\"standoff\":15},\"zerolinecolor\":\"white\",\"automargin\":true,\"zerolinewidth\":2},\"yaxis\":{\"gridcolor\":\"white\",\"linecolor\":\"white\",\"ticks\":\"\",\"title\":{\"standoff\":15},\"zerolinecolor\":\"white\",\"automargin\":true,\"zerolinewidth\":2},\"scene\":{\"xaxis\":{\"backgroundcolor\":\"#E5ECF6\",\"gridcolor\":\"white\",\"linecolor\":\"white\",\"showbackground\":true,\"ticks\":\"\",\"zerolinecolor\":\"white\",\"gridwidth\":2},\"yaxis\":{\"backgroundcolor\":\"#E5ECF6\",\"gridcolor\":\"white\",\"linecolor\":\"white\",\"showbackground\":true,\"ticks\":\"\",\"zerolinecolor\":\"white\",\"gridwidth\":2},\"zaxis\":{\"backgroundcolor\":\"#E5ECF6\",\"gridcolor\":\"white\",\"linecolor\":\"white\",\"showbackground\":true,\"ticks\":\"\",\"zerolinecolor\":\"white\",\"gridwidth\":2}},\"shapedefaults\":{\"line\":{\"color\":\"#2a3f5f\"}},\"annotationdefaults\":{\"arrowcolor\":\"#2a3f5f\",\"arrowhead\":0,\"arrowwidth\":1},\"geo\":{\"bgcolor\":\"white\",\"landcolor\":\"#E5ECF6\",\"subunitcolor\":\"white\",\"showland\":true,\"showlakes\":true,\"lakecolor\":\"white\"},\"title\":{\"x\":0.05},\"mapbox\":{\"style\":\"light\"}}},\"xaxis\":{\"anchor\":\"y\",\"domain\":[0.0,1.0],\"title\":{\"text\":\"Amount Donated\"}},\"yaxis\":{\"anchor\":\"x\",\"domain\":[0.0,1.0],\"title\":{\"text\":\"Organization\"}},\"legend\":{\"title\":{\"text\":\"Source\"},\"tracegroupgap\":0},\"title\":{\"text\":\"Who's giving money to Chuck Grassley?\",\"x\":0.5},\"barmode\":\"relative\"},                        {\"responsive\": true}                    ).then(function(){\n",
       "                            \n",
       "var gd = document.getElementById('724bb4fa-779b-4272-85bf-dad6f796da2c');\n",
       "var x = new MutationObserver(function (mutations, observer) {{\n",
       "        var display = window.getComputedStyle(gd).display;\n",
       "        if (!display || display === 'none') {{\n",
       "            console.log([gd, 'removed!']);\n",
       "            Plotly.purge(gd);\n",
       "            observer.disconnect();\n",
       "        }}\n",
       "}});\n",
       "\n",
       "// Listen for the removal of the full notebook cells\n",
       "var notebookContainer = gd.closest('#notebook-container');\n",
       "if (notebookContainer) {{\n",
       "    x.observe(notebookContainer, {childList: true});\n",
       "}}\n",
       "\n",
       "// Listen for the clearing of the current output cell\n",
       "var outputEl = gd.closest('.output');\n",
       "if (outputEl) {{\n",
       "    x.observe(outputEl, {childList: true});\n",
       "}}\n",
       "\n",
       "                        })                };                });            </script>        </div>"
      ]
     },
     "metadata": {},
     "output_type": "display_data"
    }
   ],
   "source": [
    "b = 'G000386'\n",
    "myquery = f'''\n",
    "SELECT m.directordername,\n",
    "    c.org_name,\n",
    "    c.total,\n",
    "    c.pac,\n",
    "    c.ndiv\n",
    "FROM contributions c\n",
    "INNER JOIN members m\n",
    "    ON m.cid = c.cid\n",
    "WHERE m.bioguideid = '{b}'\n",
    "'''\n",
    "contribdf = pd.read_sql_query(myquery, con=engine)\n",
    "name = contribdf['directordername'][0]\n",
    "contribdf = contribdf.drop(['directordername'], axis=1)\n",
    "contribdf = contribdf.rename({'org_name': 'Organization',\n",
    "                             'pac': 'Contribution Via PAC',\n",
    "                             'ndiv': 'Direct Contribution'}, axis =1)\n",
    "contribdf = pd.melt(contribdf, id_vars = ['Organization'],\n",
    "                   value_vars = ['Contribution Via PAC', 'Direct Contribution'])\n",
    "fig = px.bar(contribdf, x='value', y = 'Organization', color='variable', labels = {'value': 'Amount Donated',\n",
    "                                                                                  'variable': 'Source'},\n",
    "            title = f\"Who's giving money to {name}?\")\n",
    "fig.update(layout=dict(title=dict(x=0.5)))\n",
    "fig.show()"
   ]
  },
  {
   "cell_type": "code",
   "execution_count": null,
   "id": "237b8b56-8634-4d3c-b10d-8547e895d556",
   "metadata": {},
   "outputs": [],
   "source": [
    "b = 'G000386'\n",
    "myquery = f'''\n",
    "SELECT v.member_compare, v.affinity_score\n",
    "FROM members m\n",
    "INNER JOIN votesim v\n",
    "    ON m.icpsr = v.icpsr\n",
    "WHERE m.bioguideid = '{b}'\n",
    "ORDER BY v.affinity_score DESC\n",
    "LIMIT 10\n",
    "'''\n",
    "pd.read_sql_query(myquery, con=engine)"
   ]
  },
  {
   "cell_type": "code",
   "execution_count": null,
   "id": "c8e43f91-b9bc-43d9-9a43-14ffb4cee0e4",
   "metadata": {},
   "outputs": [],
   "source": [
    "myquery = f'''\n",
    "SELECT m.directordername,\n",
    "    m.state,\n",
    "    m.party,\n",
    "    g.affinity_score\n",
    "FROM members m\n",
    "INNER JOIN (SELECT v.member_compare, v.affinity_score\n",
    "        FROM members m\n",
    "        INNER JOIN votesim v\n",
    "            ON m.icpsr = v.icpsr\n",
    "        WHERE m.bioguideid = '{b}'\n",
    "        ORDER BY v.affinity_score DESC\n",
    "        LIMIT 10) g\n",
    "    ON m.icpsr = g.member_compare   \n",
    "ORDER BY g.affinity_score DESC\n",
    "'''\n",
    "votedf = pd.read_sql_query(myquery, con=engine)\n",
    "votedf = votedf.rename({'directordername': 'Name', \n",
    "                       'state': 'State',\n",
    "                       'party': 'Party',\n",
    "                       'affinity_score': 'Vote Similarity'}, axis =1)\n",
    "votedf['Vote Similarity'] = round(100*votedf['Vote Similarity'], 1).astype('str') + '%'\n",
    "ff.create_table(votedf)"
   ]
  },
  {
   "cell_type": "code",
   "execution_count": null,
   "id": "b9bb9f99-cb65-47a1-a412-f94563e49109",
   "metadata": {},
   "outputs": [],
   "source": []
  }
 ],
 "metadata": {
  "kernelspec": {
   "display_name": "Python 3 (ipykernel)",
   "language": "python",
   "name": "python3"
  },
  "language_info": {
   "codemirror_mode": {
    "name": "ipython",
    "version": 3
   },
   "file_extension": ".py",
   "mimetype": "text/x-python",
   "name": "python",
   "nbconvert_exporter": "python",
   "pygments_lexer": "ipython3",
   "version": "3.11.4"
  }
 },
 "nbformat": 4,
 "nbformat_minor": 5
}
