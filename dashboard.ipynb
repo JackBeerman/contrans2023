{
 "cells": [
  {
   "cell_type": "code",
   "execution_count": 11,
   "id": "09cfc6bd-fbf9-4861-9174-c735ddd2d134",
   "metadata": {},
   "outputs": [],
   "source": [
    "import numpy as np\n",
    "import pandas as pd\n",
    "import dash\n",
    "from dash import dcc\n",
    "from dash import html\n",
    "from dash.dependencies import Input, Output\n",
    "import psycopg2\n",
    "from sqlalchemy import create_engine\n",
    "import os\n",
    "POSTGRES_PASSWORD = os.getenv('POSTGRES_PASSWORD')"
   ]
  },
  {
   "cell_type": "code",
   "execution_count": 12,
   "id": "064890c0-7870-4c43-84ad-62b4089a56dd",
   "metadata": {},
   "outputs": [],
   "source": [
    "engine = create_engine('postgresql+psycopg2://{user}:{password}@{host}:{port}/{db}'.format(\n",
    "    user = 'postgres',\n",
    "    password = POSTGRES_PASSWORD,\n",
    "    host = 'postgres',\n",
    "    port = 5432,\n",
    "    db = 'congress'\n",
    "))"
   ]
  },
  {
   "cell_type": "code",
   "execution_count": 20,
   "id": "e60672a6-53a6-4c5d-a6b0-30d376e086ae",
   "metadata": {},
   "outputs": [],
   "source": [
    "myquery = '''\n",
    "SELECT directordername, bioguideid\n",
    "FROM members\n",
    "ORDER BY lastname\n",
    "'''\n",
    "\n",
    "members = pd.read_sql_query(myquery, engine)\n",
    "memberlist = [{'label': x, 'value': y} for x, y in zip(members['directordername'], members['bioguideid'])]"
   ]
  },
  {
   "cell_type": "code",
   "execution_count": 2,
   "id": "13d21f73-e4c1-40d4-a5ec-894f0e36bd9f",
   "metadata": {},
   "outputs": [],
   "source": [
    "external_stylesheets = ['https://codepen.io/chriddyp/pen/bWLwgP.css']"
   ]
  },
  {
   "cell_type": "code",
   "execution_count": 7,
   "id": "aae2dd3a-b8b2-49be-82ea-72eae2df3082",
   "metadata": {},
   "outputs": [],
   "source": [
    "mymarkdown = '''\n",
    "\n",
    "Congressional elections are usually all about the big national issues, but these Representatives and Senators work for local districts and states. Not all issues are the same everywhere. The purpose of this dashboard is to collect public data from these sources:\n",
    "\n",
    "* [Official API for the U.S. Congress](https://api.congress.gov/)\n",
    "* [Voteview](https://voteview.com/)\n",
    "* [Open Secrets](https://opensecrets.org/open-data/api)\n",
    "* [ProPublica's Data on Bills](https://www.propublica.org/)\n",
    "\n",
    "'''"
   ]
  },
  {
   "cell_type": "code",
   "execution_count": 21,
   "id": "13b68825-3fc3-4521-93a4-45a72db65c46",
   "metadata": {},
   "outputs": [
    {
     "data": {
      "text/html": [
       "\n",
       "        <iframe\n",
       "            width=\"100%\"\n",
       "            height=\"650\"\n",
       "            src=\"http://0.0.0.0:8050/\"\n",
       "            frameborder=\"0\"\n",
       "            allowfullscreen\n",
       "            \n",
       "        ></iframe>\n",
       "        "
      ],
      "text/plain": [
       "<IPython.lib.display.IFrame at 0x7efd6a75c490>"
      ]
     },
     "metadata": {},
     "output_type": "display_data"
    }
   ],
   "source": [
    "app = dash.Dash(__name__, external_stylesheets=external_stylesheets)\n",
    "\n",
    "app.layout = html.Div(\n",
    "    [\n",
    "        html.H1(\"Know Your Representatives in Congress\"),\n",
    "        html.H2(\"Data collected from APIs from Congress.gov, Open Secrets, Voteview.com, and ProPublica\"),\n",
    "        html.H3(\"DS 6600: Data Engineering 1, UVA Data Science\"),\n",
    "\n",
    "        dcc.Markdown(mymarkdown),\n",
    "\n",
    "        dcc.Dropdown(options = memberlist,\n",
    "                    value = 'Alma S. Adams')\n",
    "    ]\n",
    ")\n",
    "\n",
    "if __name__==\"__main__\":\n",
    "    app.run_server(mode='external', host = \"0.0.0.0\", port = 8050, debug=False)"
   ]
  },
  {
   "cell_type": "code",
   "execution_count": null,
   "id": "cbb590ec-e2d8-4a90-9420-37ba1347af31",
   "metadata": {},
   "outputs": [],
   "source": []
  },
  {
   "cell_type": "code",
   "execution_count": null,
   "id": "8c652cb4-55be-4bb1-9b1b-92ccdf3ec2c4",
   "metadata": {},
   "outputs": [],
   "source": []
  }
 ],
 "metadata": {
  "kernelspec": {
   "display_name": "Python 3 (ipykernel)",
   "language": "python",
   "name": "python3"
  },
  "language_info": {
   "codemirror_mode": {
    "name": "ipython",
    "version": 3
   },
   "file_extension": ".py",
   "mimetype": "text/x-python",
   "name": "python",
   "nbconvert_exporter": "python",
   "pygments_lexer": "ipython3",
   "version": "3.11.4"
  }
 },
 "nbformat": 4,
 "nbformat_minor": 5
}
